{
 "cells": [
  {
   "attachments": {},
   "cell_type": "markdown",
   "metadata": {},
   "source": [
    "\n",
    "# \"Анализ поведения пользоватетей игры Quiz Freeze\" \n",
    "\n",
    "## Проблемная ситуация\n",
    "\n",
    "### В рамках взаимодействия с игрой пользователи используют различные стратегии, каждая из которых имеет свой потенциал конверсии пользователя в покупателя.  Следовательно, стратегии поведения различаются с точки зрения коммерческой выгоды. Остается непонятным, насколько алгоритмы прохождения игры прозрачны пользователям. В ходе исследования на примере наблюдения за период один календарный год (2018 год) предполагается проверка 3 гипотез:\n",
    "\n",
    "### Гипотеза 1\n",
    "Должна быть разница в поведении групп, которые проходят и не проходят обучение. Влияет ли обучение на скорость прохождения других этапов игры?\n",
    "\n",
    "### Гипотеза 2\n",
    "Возможно, повторное прохождение обучения положительно влияет на оплату\n",
    "\n",
    "### Гипотеза 3\n",
    "Если пользователь сначала выбирает сложность обучения, то потом он потом проходить обучение\n",
    "\n",
    "## Цель исследования \n",
    "\n",
    "### Исследовать поведение пользователей в обновлённом приложении\n",
    "\n",
    "## Задачи\n",
    "### В рамках проверки гипотез необходимо решить три задачи:\n",
    "\n",
    "### 1. Определить, насколько обучение сокращает время прохождения этапов игры.\n",
    "### 2. Проверить, что успешное обучение само по себе влияет на оплату и не имеет значения то, каким этапом оно шло.\n",
    "### 3. Определить, насколько прозрачен процесс взаимодействия с игрой.\n"
   ]
  },
  {
   "attachments": {},
   "cell_type": "markdown",
   "metadata": {},
   "source": [
    "## Этап обработки исходных данных\n",
    "\n",
    "Импортируем необходимые модули (Numpy, Pandas), создадим исходные датафреймы из csv-файлов. Проведем первичный анализ данных в исходных файлах. "
   ]
  },
  {
   "cell_type": "code",
   "execution_count": 1,
   "metadata": {},
   "outputs": [
    {
     "data": {
      "text/plain": [
       "'events_df - переменная с 1-м исходным файлом для анализа'"
      ]
     },
     "metadata": {},
     "output_type": "display_data"
    },
    {
     "data": {
      "text/html": [
       "<div>\n",
       "<style scoped>\n",
       "    .dataframe tbody tr th:only-of-type {\n",
       "        vertical-align: middle;\n",
       "    }\n",
       "\n",
       "    .dataframe tbody tr th {\n",
       "        vertical-align: top;\n",
       "    }\n",
       "\n",
       "    .dataframe thead th {\n",
       "        text-align: right;\n",
       "    }\n",
       "</style>\n",
       "<table border=\"1\" class=\"dataframe\">\n",
       "  <thead>\n",
       "    <tr style=\"text-align: right;\">\n",
       "      <th></th>\n",
       "      <th>id</th>\n",
       "      <th>event_type</th>\n",
       "      <th>selected_level</th>\n",
       "      <th>start_time</th>\n",
       "      <th>tutorial_id</th>\n",
       "      <th>user_id</th>\n",
       "    </tr>\n",
       "  </thead>\n",
       "  <tbody>\n",
       "    <tr>\n",
       "      <th>0</th>\n",
       "      <td>28903</td>\n",
       "      <td>registration</td>\n",
       "      <td>NaN</td>\n",
       "      <td>2016-05-11T23:40:55</td>\n",
       "      <td>NaN</td>\n",
       "      <td>12583</td>\n",
       "    </tr>\n",
       "    <tr>\n",
       "      <th>1</th>\n",
       "      <td>28904</td>\n",
       "      <td>registration</td>\n",
       "      <td>NaN</td>\n",
       "      <td>2016-05-11T23:49:58</td>\n",
       "      <td>NaN</td>\n",
       "      <td>12584</td>\n",
       "    </tr>\n",
       "    <tr>\n",
       "      <th>2</th>\n",
       "      <td>28905</td>\n",
       "      <td>registration</td>\n",
       "      <td>NaN</td>\n",
       "      <td>2016-05-12T00:53:07</td>\n",
       "      <td>NaN</td>\n",
       "      <td>12585</td>\n",
       "    </tr>\n",
       "    <tr>\n",
       "      <th>3</th>\n",
       "      <td>28906</td>\n",
       "      <td>tutorial_start</td>\n",
       "      <td>NaN</td>\n",
       "      <td>2016-05-12T01:32:20</td>\n",
       "      <td>17562.0</td>\n",
       "      <td>12585</td>\n",
       "    </tr>\n",
       "    <tr>\n",
       "      <th>4</th>\n",
       "      <td>28907</td>\n",
       "      <td>tutorial_finish</td>\n",
       "      <td>NaN</td>\n",
       "      <td>2016-05-12T01:34:53</td>\n",
       "      <td>17562.0</td>\n",
       "      <td>12585</td>\n",
       "    </tr>\n",
       "  </tbody>\n",
       "</table>\n",
       "</div>"
      ],
      "text/plain": [
       "      id       event_type selected_level           start_time  tutorial_id  \\\n",
       "0  28903     registration            NaN  2016-05-11T23:40:55          NaN   \n",
       "1  28904     registration            NaN  2016-05-11T23:49:58          NaN   \n",
       "2  28905     registration            NaN  2016-05-12T00:53:07          NaN   \n",
       "3  28906   tutorial_start            NaN  2016-05-12T01:32:20      17562.0   \n",
       "4  28907  tutorial_finish            NaN  2016-05-12T01:34:53      17562.0   \n",
       "\n",
       "   user_id  \n",
       "0    12583  \n",
       "1    12584  \n",
       "2    12585  \n",
       "3    12585  \n",
       "4    12585  "
      ]
     },
     "metadata": {},
     "output_type": "display_data"
    },
    {
     "name": "stdout",
     "output_type": "stream",
     "text": [
      "\n"
     ]
    },
    {
     "data": {
      "text/plain": [
       "'Первичная информация о 1-м исходном файле'"
      ]
     },
     "metadata": {},
     "output_type": "display_data"
    },
    {
     "name": "stdout",
     "output_type": "stream",
     "text": [
      "<class 'pandas.core.frame.DataFrame'>\n",
      "RangeIndex: 252334 entries, 0 to 252333\n",
      "Data columns (total 6 columns):\n",
      " #   Column          Non-Null Count   Dtype  \n",
      "---  ------          --------------   -----  \n",
      " 0   id              252334 non-null  int64  \n",
      " 1   event_type      252334 non-null  object \n",
      " 2   selected_level  31086 non-null   object \n",
      " 3   start_time      252334 non-null  object \n",
      " 4   tutorial_id     125103 non-null  float64\n",
      " 5   user_id         252334 non-null  int64  \n",
      "dtypes: float64(1), int64(2), object(3)\n",
      "memory usage: 11.6+ MB\n"
     ]
    },
    {
     "data": {
      "text/plain": [
       "None"
      ]
     },
     "metadata": {},
     "output_type": "display_data"
    },
    {
     "data": {
      "text/html": [
       "<div>\n",
       "<style scoped>\n",
       "    .dataframe tbody tr th:only-of-type {\n",
       "        vertical-align: middle;\n",
       "    }\n",
       "\n",
       "    .dataframe tbody tr th {\n",
       "        vertical-align: top;\n",
       "    }\n",
       "\n",
       "    .dataframe thead th {\n",
       "        text-align: right;\n",
       "    }\n",
       "</style>\n",
       "<table border=\"1\" class=\"dataframe\">\n",
       "  <thead>\n",
       "    <tr style=\"text-align: right;\">\n",
       "      <th></th>\n",
       "      <th>id</th>\n",
       "      <th>event_type</th>\n",
       "      <th>selected_level</th>\n",
       "      <th>start_time</th>\n",
       "      <th>tutorial_id</th>\n",
       "      <th>user_id</th>\n",
       "    </tr>\n",
       "  </thead>\n",
       "  <tbody>\n",
       "    <tr>\n",
       "      <th>count</th>\n",
       "      <td>252334.00000</td>\n",
       "      <td>252334</td>\n",
       "      <td>31086</td>\n",
       "      <td>252334</td>\n",
       "      <td>125103.000000</td>\n",
       "      <td>252334.000000</td>\n",
       "    </tr>\n",
       "    <tr>\n",
       "      <th>unique</th>\n",
       "      <td>NaN</td>\n",
       "      <td>5</td>\n",
       "      <td>3</td>\n",
       "      <td>251565</td>\n",
       "      <td>NaN</td>\n",
       "      <td>NaN</td>\n",
       "    </tr>\n",
       "    <tr>\n",
       "      <th>top</th>\n",
       "      <td>NaN</td>\n",
       "      <td>registration</td>\n",
       "      <td>medium</td>\n",
       "      <td>2017-05-29T11:03:08</td>\n",
       "      <td>NaN</td>\n",
       "      <td>NaN</td>\n",
       "    </tr>\n",
       "    <tr>\n",
       "      <th>freq</th>\n",
       "      <td>NaN</td>\n",
       "      <td>74908</td>\n",
       "      <td>17408</td>\n",
       "      <td>16</td>\n",
       "      <td>NaN</td>\n",
       "      <td>NaN</td>\n",
       "    </tr>\n",
       "    <tr>\n",
       "      <th>mean</th>\n",
       "      <td>155069.50000</td>\n",
       "      <td>NaN</td>\n",
       "      <td>NaN</td>\n",
       "      <td>NaN</td>\n",
       "      <td>51815.675364</td>\n",
       "      <td>50003.098790</td>\n",
       "    </tr>\n",
       "    <tr>\n",
       "      <th>std</th>\n",
       "      <td>72842.69575</td>\n",
       "      <td>NaN</td>\n",
       "      <td>NaN</td>\n",
       "      <td>NaN</td>\n",
       "      <td>19792.496704</td>\n",
       "      <td>21586.690775</td>\n",
       "    </tr>\n",
       "    <tr>\n",
       "      <th>min</th>\n",
       "      <td>28903.00000</td>\n",
       "      <td>NaN</td>\n",
       "      <td>NaN</td>\n",
       "      <td>NaN</td>\n",
       "      <td>17562.000000</td>\n",
       "      <td>12583.000000</td>\n",
       "    </tr>\n",
       "    <tr>\n",
       "      <th>25%</th>\n",
       "      <td>91986.25000</td>\n",
       "      <td>NaN</td>\n",
       "      <td>NaN</td>\n",
       "      <td>NaN</td>\n",
       "      <td>34666.000000</td>\n",
       "      <td>31302.000000</td>\n",
       "    </tr>\n",
       "    <tr>\n",
       "      <th>50%</th>\n",
       "      <td>155069.50000</td>\n",
       "      <td>NaN</td>\n",
       "      <td>NaN</td>\n",
       "      <td>NaN</td>\n",
       "      <td>51794.000000</td>\n",
       "      <td>49983.000000</td>\n",
       "    </tr>\n",
       "    <tr>\n",
       "      <th>75%</th>\n",
       "      <td>218152.75000</td>\n",
       "      <td>NaN</td>\n",
       "      <td>NaN</td>\n",
       "      <td>NaN</td>\n",
       "      <td>68961.500000</td>\n",
       "      <td>68670.000000</td>\n",
       "    </tr>\n",
       "    <tr>\n",
       "      <th>max</th>\n",
       "      <td>281236.00000</td>\n",
       "      <td>NaN</td>\n",
       "      <td>NaN</td>\n",
       "      <td>NaN</td>\n",
       "      <td>86127.000000</td>\n",
       "      <td>87490.000000</td>\n",
       "    </tr>\n",
       "  </tbody>\n",
       "</table>\n",
       "</div>"
      ],
      "text/plain": [
       "                  id    event_type selected_level           start_time  \\\n",
       "count   252334.00000        252334          31086               252334   \n",
       "unique           NaN             5              3               251565   \n",
       "top              NaN  registration         medium  2017-05-29T11:03:08   \n",
       "freq             NaN         74908          17408                   16   \n",
       "mean    155069.50000           NaN            NaN                  NaN   \n",
       "std      72842.69575           NaN            NaN                  NaN   \n",
       "min      28903.00000           NaN            NaN                  NaN   \n",
       "25%      91986.25000           NaN            NaN                  NaN   \n",
       "50%     155069.50000           NaN            NaN                  NaN   \n",
       "75%     218152.75000           NaN            NaN                  NaN   \n",
       "max     281236.00000           NaN            NaN                  NaN   \n",
       "\n",
       "          tutorial_id        user_id  \n",
       "count   125103.000000  252334.000000  \n",
       "unique            NaN            NaN  \n",
       "top               NaN            NaN  \n",
       "freq              NaN            NaN  \n",
       "mean     51815.675364   50003.098790  \n",
       "std      19792.496704   21586.690775  \n",
       "min      17562.000000   12583.000000  \n",
       "25%      34666.000000   31302.000000  \n",
       "50%      51794.000000   49983.000000  \n",
       "75%      68961.500000   68670.000000  \n",
       "max      86127.000000   87490.000000  "
      ]
     },
     "metadata": {},
     "output_type": "display_data"
    },
    {
     "data": {
      "text/plain": [
       "'Количество уникальных значений в столбце event_type (тип действия пользователя):'"
      ]
     },
     "metadata": {},
     "output_type": "display_data"
    },
    {
     "data": {
      "text/plain": [
       "array(['registration', 'tutorial_start', 'tutorial_finish',\n",
       "       'level_choice', 'pack_choice'], dtype=object)"
      ]
     },
     "metadata": {},
     "output_type": "display_data"
    },
    {
     "data": {
      "text/plain": [
       "'Количество пользователей в 1-м исходном файле: '"
      ]
     },
     "metadata": {},
     "output_type": "display_data"
    },
    {
     "data": {
      "text/plain": [
       "74908"
      ]
     },
     "metadata": {},
     "output_type": "display_data"
    },
    {
     "name": "stdout",
     "output_type": "stream",
     "text": [
      "\n"
     ]
    },
    {
     "data": {
      "text/plain": [
       "'purchase_df - переменная для записи 2-го исходного файла'"
      ]
     },
     "metadata": {},
     "output_type": "display_data"
    },
    {
     "data": {
      "text/html": [
       "<div>\n",
       "<style scoped>\n",
       "    .dataframe tbody tr th:only-of-type {\n",
       "        vertical-align: middle;\n",
       "    }\n",
       "\n",
       "    .dataframe tbody tr th {\n",
       "        vertical-align: top;\n",
       "    }\n",
       "\n",
       "    .dataframe thead th {\n",
       "        text-align: right;\n",
       "    }\n",
       "</style>\n",
       "<table border=\"1\" class=\"dataframe\">\n",
       "  <thead>\n",
       "    <tr style=\"text-align: right;\">\n",
       "      <th></th>\n",
       "      <th>id</th>\n",
       "      <th>user_id</th>\n",
       "      <th>event_datetime</th>\n",
       "      <th>amount</th>\n",
       "    </tr>\n",
       "  </thead>\n",
       "  <tbody>\n",
       "    <tr>\n",
       "      <th>0</th>\n",
       "      <td>15674</td>\n",
       "      <td>12584</td>\n",
       "      <td>2016-05-12T10:34:16</td>\n",
       "      <td>100</td>\n",
       "    </tr>\n",
       "    <tr>\n",
       "      <th>1</th>\n",
       "      <td>15675</td>\n",
       "      <td>12985</td>\n",
       "      <td>2016-05-13T08:25:56</td>\n",
       "      <td>50</td>\n",
       "    </tr>\n",
       "    <tr>\n",
       "      <th>2</th>\n",
       "      <td>15676</td>\n",
       "      <td>12828</td>\n",
       "      <td>2016-05-13T16:33:46</td>\n",
       "      <td>50</td>\n",
       "    </tr>\n",
       "    <tr>\n",
       "      <th>3</th>\n",
       "      <td>15677</td>\n",
       "      <td>12598</td>\n",
       "      <td>2016-05-14T01:09:37</td>\n",
       "      <td>150</td>\n",
       "    </tr>\n",
       "    <tr>\n",
       "      <th>4</th>\n",
       "      <td>15678</td>\n",
       "      <td>13037</td>\n",
       "      <td>2016-05-14T01:24:46</td>\n",
       "      <td>100</td>\n",
       "    </tr>\n",
       "  </tbody>\n",
       "</table>\n",
       "</div>"
      ],
      "text/plain": [
       "      id  user_id       event_datetime  amount\n",
       "0  15674    12584  2016-05-12T10:34:16     100\n",
       "1  15675    12985  2016-05-13T08:25:56      50\n",
       "2  15676    12828  2016-05-13T16:33:46      50\n",
       "3  15677    12598  2016-05-14T01:09:37     150\n",
       "4  15678    13037  2016-05-14T01:24:46     100"
      ]
     },
     "metadata": {},
     "output_type": "display_data"
    },
    {
     "name": "stdout",
     "output_type": "stream",
     "text": [
      "\t Количество уникальных значений в столбцах event_type и select_level совпадает с описанием исходной таблицы. Количество строк в столбцах id, event_type, user_id, start_tyme совпадает.\n",
      " Пропусков нет, дубликатов нет\n"
     ]
    },
    {
     "data": {
      "text/plain": [
       "'Первичная информация о  2-м исходном файле'"
      ]
     },
     "metadata": {},
     "output_type": "display_data"
    },
    {
     "name": "stdout",
     "output_type": "stream",
     "text": [
      "<class 'pandas.core.frame.DataFrame'>\n",
      "RangeIndex: 5956 entries, 0 to 5955\n",
      "Data columns (total 4 columns):\n",
      " #   Column          Non-Null Count  Dtype \n",
      "---  ------          --------------  ----- \n",
      " 0   id              5956 non-null   int64 \n",
      " 1   user_id         5956 non-null   int64 \n",
      " 2   event_datetime  5956 non-null   object\n",
      " 3   amount          5956 non-null   int64 \n",
      "dtypes: int64(3), object(1)\n",
      "memory usage: 186.2+ KB\n"
     ]
    },
    {
     "data": {
      "text/html": [
       "<div>\n",
       "<style scoped>\n",
       "    .dataframe tbody tr th:only-of-type {\n",
       "        vertical-align: middle;\n",
       "    }\n",
       "\n",
       "    .dataframe tbody tr th {\n",
       "        vertical-align: top;\n",
       "    }\n",
       "\n",
       "    .dataframe thead th {\n",
       "        text-align: right;\n",
       "    }\n",
       "</style>\n",
       "<table border=\"1\" class=\"dataframe\">\n",
       "  <thead>\n",
       "    <tr style=\"text-align: right;\">\n",
       "      <th></th>\n",
       "      <th>id</th>\n",
       "      <th>user_id</th>\n",
       "      <th>event_datetime</th>\n",
       "      <th>amount</th>\n",
       "    </tr>\n",
       "  </thead>\n",
       "  <tbody>\n",
       "    <tr>\n",
       "      <th>count</th>\n",
       "      <td>5956.000000</td>\n",
       "      <td>5956.000000</td>\n",
       "      <td>5956</td>\n",
       "      <td>5956.000000</td>\n",
       "    </tr>\n",
       "    <tr>\n",
       "      <th>unique</th>\n",
       "      <td>NaN</td>\n",
       "      <td>NaN</td>\n",
       "      <td>5955</td>\n",
       "      <td>NaN</td>\n",
       "    </tr>\n",
       "    <tr>\n",
       "      <th>top</th>\n",
       "      <td>NaN</td>\n",
       "      <td>NaN</td>\n",
       "      <td>2019-04-19T15:42:47</td>\n",
       "      <td>NaN</td>\n",
       "    </tr>\n",
       "    <tr>\n",
       "      <th>freq</th>\n",
       "      <td>NaN</td>\n",
       "      <td>NaN</td>\n",
       "      <td>2</td>\n",
       "      <td>NaN</td>\n",
       "    </tr>\n",
       "    <tr>\n",
       "      <th>mean</th>\n",
       "      <td>18651.500000</td>\n",
       "      <td>50224.943251</td>\n",
       "      <td>NaN</td>\n",
       "      <td>108.919577</td>\n",
       "    </tr>\n",
       "    <tr>\n",
       "      <th>std</th>\n",
       "      <td>1719.493433</td>\n",
       "      <td>21458.351127</td>\n",
       "      <td>NaN</td>\n",
       "      <td>55.786902</td>\n",
       "    </tr>\n",
       "    <tr>\n",
       "      <th>min</th>\n",
       "      <td>15674.000000</td>\n",
       "      <td>12584.000000</td>\n",
       "      <td>NaN</td>\n",
       "      <td>25.000000</td>\n",
       "    </tr>\n",
       "    <tr>\n",
       "      <th>25%</th>\n",
       "      <td>17162.750000</td>\n",
       "      <td>31701.500000</td>\n",
       "      <td>NaN</td>\n",
       "      <td>50.000000</td>\n",
       "    </tr>\n",
       "    <tr>\n",
       "      <th>50%</th>\n",
       "      <td>18651.500000</td>\n",
       "      <td>50343.500000</td>\n",
       "      <td>NaN</td>\n",
       "      <td>100.000000</td>\n",
       "    </tr>\n",
       "    <tr>\n",
       "      <th>75%</th>\n",
       "      <td>20140.250000</td>\n",
       "      <td>68584.500000</td>\n",
       "      <td>NaN</td>\n",
       "      <td>150.000000</td>\n",
       "    </tr>\n",
       "    <tr>\n",
       "      <th>max</th>\n",
       "      <td>21629.000000</td>\n",
       "      <td>87480.000000</td>\n",
       "      <td>NaN</td>\n",
       "      <td>350.000000</td>\n",
       "    </tr>\n",
       "  </tbody>\n",
       "</table>\n",
       "</div>"
      ],
      "text/plain": [
       "                  id       user_id       event_datetime       amount\n",
       "count    5956.000000   5956.000000                 5956  5956.000000\n",
       "unique           NaN           NaN                 5955          NaN\n",
       "top              NaN           NaN  2019-04-19T15:42:47          NaN\n",
       "freq             NaN           NaN                    2          NaN\n",
       "mean    18651.500000  50224.943251                  NaN   108.919577\n",
       "std      1719.493433  21458.351127                  NaN    55.786902\n",
       "min     15674.000000  12584.000000                  NaN    25.000000\n",
       "25%     17162.750000  31701.500000                  NaN    50.000000\n",
       "50%     18651.500000  50343.500000                  NaN   100.000000\n",
       "75%     20140.250000  68584.500000                  NaN   150.000000\n",
       "max     21629.000000  87480.000000                  NaN   350.000000"
      ]
     },
     "metadata": {},
     "output_type": "display_data"
    },
    {
     "name": "stdout",
     "output_type": "stream",
     "text": [
      "Количество строк в столбцах совпадает. На данном этапе дополнительно преобразовывать файл необязательно\n"
     ]
    }
   ],
   "source": [
    "import numpy as np\n",
    "import pandas as pd\n",
    "import datetime\n",
    "event = pd.read_csv('data\\Events.csv', sep=',') # экспортируем файл событий\n",
    "events_df = event.copy() # после записи в переменную csv-файла создаем копию ,с которой и будем работать.\n",
    "display(\"events_df - переменная с 1-м исходным файлом для анализа\")\n",
    "display(events_df.head())\n",
    "print()\n",
    "display(\"Первичная информация о 1-м исходном файле\") \n",
    "display(events_df.info()) # Знакомимся с содержанием таблицы событий.\n",
    "display(events_df.describe(include='all')) # выводим все типы данных, имеющихся в таблице, получив описательную статистику дадафрейму\n",
    "display(\"Количество уникальных значений в столбце event_type (тип действия пользователя):\", events_df['event_type'].unique())\n",
    "display\n",
    "(\n",
    "    \"Количество уникальных значений в столбце selected_level (выбор уровня сложности вопросов): \", \n",
    "    events_df['selected_level'].unique()\n",
    "    ) \n",
    "display(\"Количество пользователей в 1-м исходном файле: \", events_df['user_id'].nunique()) \n",
    "print()\n",
    "\n",
    "purchase = pd.read_csv('data\\purchase.csv', sep=',') # экспортируем файл информации о покупках \n",
    "purchase_df = purchase.copy() # после записи в переменную csv-файла создаем копию, с которой и будем работать.\n",
    "display(\"purchase_df - переменная для записи 2-го исходного файла\")\n",
    "display(purchase_df.head())\n",
    "print(\"\\t Количество уникальных значений в столбцах event_type и select_level совпадает с описанием исходной таблицы. Количество строк в столбцах id, event_type, user_id, start_tyme совпадает.\\n Пропусков нет, дубликатов нет\")\n",
    "display(\"Первичная информация о  2-м исходном файле\")\n",
    "purchase_df.info()\n",
    "display(purchase_df.describe(include='all')) # выводим все типы данных, имеющихся в таблице\n",
    "print(\"Количество строк в столбцах совпадает. На данном этапе дополнительно преобразовывать файл необязательно\")"
   ]
  },
  {
   "attachments": {},
   "cell_type": "markdown",
   "metadata": {},
   "source": [
    "Преобразуем файлы для проведения последующего анализа. Для этого выделим данные за 2018 год. Переименуем столбцы и создадим объединенную таблицу, включающую данные о действиях пользователей, в том числе, оплату новых пакетов игровых впросов. "
   ]
  },
  {
   "cell_type": "code",
   "execution_count": 2,
   "metadata": {},
   "outputs": [
    {
     "data": {
      "text/plain": [
       "'Возьмем из 1-й таблицы данные только за 2018 год, записав в новый датафрэйм events_df_2018'"
      ]
     },
     "metadata": {},
     "output_type": "display_data"
    },
    {
     "data": {
      "text/html": [
       "<div>\n",
       "<style scoped>\n",
       "    .dataframe tbody tr th:only-of-type {\n",
       "        vertical-align: middle;\n",
       "    }\n",
       "\n",
       "    .dataframe tbody tr th {\n",
       "        vertical-align: top;\n",
       "    }\n",
       "\n",
       "    .dataframe thead th {\n",
       "        text-align: right;\n",
       "    }\n",
       "</style>\n",
       "<table border=\"1\" class=\"dataframe\">\n",
       "  <thead>\n",
       "    <tr style=\"text-align: right;\">\n",
       "      <th></th>\n",
       "      <th>id</th>\n",
       "      <th>event_type</th>\n",
       "      <th>selected_level</th>\n",
       "      <th>start_time</th>\n",
       "      <th>tutorial_id</th>\n",
       "      <th>user_id</th>\n",
       "    </tr>\n",
       "  </thead>\n",
       "  <tbody>\n",
       "    <tr>\n",
       "      <th>51405</th>\n",
       "      <td>80308</td>\n",
       "      <td>registration</td>\n",
       "      <td>NaN</td>\n",
       "      <td>2018-01-01T03:48:40</td>\n",
       "      <td>NaN</td>\n",
       "      <td>27832</td>\n",
       "    </tr>\n",
       "    <tr>\n",
       "      <th>51406</th>\n",
       "      <td>80309</td>\n",
       "      <td>registration</td>\n",
       "      <td>NaN</td>\n",
       "      <td>2018-01-01T04:07:25</td>\n",
       "      <td>NaN</td>\n",
       "      <td>27833</td>\n",
       "    </tr>\n",
       "    <tr>\n",
       "      <th>51407</th>\n",
       "      <td>80310</td>\n",
       "      <td>registration</td>\n",
       "      <td>NaN</td>\n",
       "      <td>2018-01-01T08:35:10</td>\n",
       "      <td>NaN</td>\n",
       "      <td>27834</td>\n",
       "    </tr>\n",
       "    <tr>\n",
       "      <th>51408</th>\n",
       "      <td>80311</td>\n",
       "      <td>registration</td>\n",
       "      <td>NaN</td>\n",
       "      <td>2018-01-01T11:54:47</td>\n",
       "      <td>NaN</td>\n",
       "      <td>27835</td>\n",
       "    </tr>\n",
       "    <tr>\n",
       "      <th>51409</th>\n",
       "      <td>80312</td>\n",
       "      <td>registration</td>\n",
       "      <td>NaN</td>\n",
       "      <td>2018-01-01T13:28:07</td>\n",
       "      <td>NaN</td>\n",
       "      <td>27836</td>\n",
       "    </tr>\n",
       "  </tbody>\n",
       "</table>\n",
       "</div>"
      ],
      "text/plain": [
       "          id    event_type selected_level           start_time  tutorial_id  \\\n",
       "51405  80308  registration            NaN  2018-01-01T03:48:40          NaN   \n",
       "51406  80309  registration            NaN  2018-01-01T04:07:25          NaN   \n",
       "51407  80310  registration            NaN  2018-01-01T08:35:10          NaN   \n",
       "51408  80311  registration            NaN  2018-01-01T11:54:47          NaN   \n",
       "51409  80312  registration            NaN  2018-01-01T13:28:07          NaN   \n",
       "\n",
       "       user_id  \n",
       "51405    27832  \n",
       "51406    27833  \n",
       "51407    27834  \n",
       "51408    27835  \n",
       "51409    27836  "
      ]
     },
     "metadata": {},
     "output_type": "display_data"
    },
    {
     "data": {
      "text/plain": [
       "'Общая информация о таблице events_df_2018'"
      ]
     },
     "metadata": {},
     "output_type": "display_data"
    },
    {
     "name": "stdout",
     "output_type": "stream",
     "text": [
      "<class 'pandas.core.frame.DataFrame'>\n",
      "Index: 66929 entries, 51405 to 118338\n",
      "Data columns (total 6 columns):\n",
      " #   Column          Non-Null Count  Dtype  \n",
      "---  ------          --------------  -----  \n",
      " 0   id              66929 non-null  int64  \n",
      " 1   event_type      66929 non-null  object \n",
      " 2   selected_level  8338 non-null   object \n",
      " 3   start_time      66929 non-null  object \n",
      " 4   tutorial_id     32942 non-null  float64\n",
      " 5   user_id         66929 non-null  int64  \n",
      "dtypes: float64(1), int64(2), object(3)\n",
      "memory usage: 3.6+ MB\n"
     ]
    },
    {
     "data": {
      "text/html": [
       "<div>\n",
       "<style scoped>\n",
       "    .dataframe tbody tr th:only-of-type {\n",
       "        vertical-align: middle;\n",
       "    }\n",
       "\n",
       "    .dataframe tbody tr th {\n",
       "        vertical-align: top;\n",
       "    }\n",
       "\n",
       "    .dataframe thead th {\n",
       "        text-align: right;\n",
       "    }\n",
       "</style>\n",
       "<table border=\"1\" class=\"dataframe\">\n",
       "  <thead>\n",
       "    <tr style=\"text-align: right;\">\n",
       "      <th></th>\n",
       "      <th>id</th>\n",
       "      <th>event_type</th>\n",
       "      <th>selected_level</th>\n",
       "      <th>start_time</th>\n",
       "      <th>tutorial_id</th>\n",
       "      <th>user_id</th>\n",
       "    </tr>\n",
       "  </thead>\n",
       "  <tbody>\n",
       "    <tr>\n",
       "      <th>count</th>\n",
       "      <td>66929.000000</td>\n",
       "      <td>66929</td>\n",
       "      <td>8338</td>\n",
       "      <td>66929</td>\n",
       "      <td>32942.000000</td>\n",
       "      <td>66929.000000</td>\n",
       "    </tr>\n",
       "    <tr>\n",
       "      <th>unique</th>\n",
       "      <td>NaN</td>\n",
       "      <td>5</td>\n",
       "      <td>3</td>\n",
       "      <td>66779</td>\n",
       "      <td>NaN</td>\n",
       "      <td>NaN</td>\n",
       "    </tr>\n",
       "    <tr>\n",
       "      <th>top</th>\n",
       "      <td>NaN</td>\n",
       "      <td>registration</td>\n",
       "      <td>medium</td>\n",
       "      <td>2018-03-13T09:37:43</td>\n",
       "      <td>NaN</td>\n",
       "      <td>NaN</td>\n",
       "    </tr>\n",
       "    <tr>\n",
       "      <th>freq</th>\n",
       "      <td>NaN</td>\n",
       "      <td>19914</td>\n",
       "      <td>4642</td>\n",
       "      <td>9</td>\n",
       "      <td>NaN</td>\n",
       "      <td>NaN</td>\n",
       "    </tr>\n",
       "    <tr>\n",
       "      <th>mean</th>\n",
       "      <td>113772.001016</td>\n",
       "      <td>NaN</td>\n",
       "      <td>NaN</td>\n",
       "      <td>NaN</td>\n",
       "      <td>40529.649323</td>\n",
       "      <td>37777.074273</td>\n",
       "    </tr>\n",
       "    <tr>\n",
       "      <th>std</th>\n",
       "      <td>19320.884180</td>\n",
       "      <td>NaN</td>\n",
       "      <td>NaN</td>\n",
       "      <td>NaN</td>\n",
       "      <td>5211.593585</td>\n",
       "      <td>5748.910912</td>\n",
       "    </tr>\n",
       "    <tr>\n",
       "      <th>min</th>\n",
       "      <td>80308.000000</td>\n",
       "      <td>NaN</td>\n",
       "      <td>NaN</td>\n",
       "      <td>NaN</td>\n",
       "      <td>31505.000000</td>\n",
       "      <td>27832.000000</td>\n",
       "    </tr>\n",
       "    <tr>\n",
       "      <th>25%</th>\n",
       "      <td>97040.000000</td>\n",
       "      <td>NaN</td>\n",
       "      <td>NaN</td>\n",
       "      <td>NaN</td>\n",
       "      <td>36007.000000</td>\n",
       "      <td>32847.000000</td>\n",
       "    </tr>\n",
       "    <tr>\n",
       "      <th>50%</th>\n",
       "      <td>113772.000000</td>\n",
       "      <td>NaN</td>\n",
       "      <td>NaN</td>\n",
       "      <td>NaN</td>\n",
       "      <td>40526.500000</td>\n",
       "      <td>37712.000000</td>\n",
       "    </tr>\n",
       "    <tr>\n",
       "      <th>75%</th>\n",
       "      <td>130504.000000</td>\n",
       "      <td>NaN</td>\n",
       "      <td>NaN</td>\n",
       "      <td>NaN</td>\n",
       "      <td>45052.000000</td>\n",
       "      <td>42722.000000</td>\n",
       "    </tr>\n",
       "    <tr>\n",
       "      <th>max</th>\n",
       "      <td>147241.000000</td>\n",
       "      <td>NaN</td>\n",
       "      <td>NaN</td>\n",
       "      <td>NaN</td>\n",
       "      <td>49549.000000</td>\n",
       "      <td>47745.000000</td>\n",
       "    </tr>\n",
       "  </tbody>\n",
       "</table>\n",
       "</div>"
      ],
      "text/plain": [
       "                   id    event_type selected_level           start_time  \\\n",
       "count    66929.000000         66929           8338                66929   \n",
       "unique            NaN             5              3                66779   \n",
       "top               NaN  registration         medium  2018-03-13T09:37:43   \n",
       "freq              NaN         19914           4642                    9   \n",
       "mean    113772.001016           NaN            NaN                  NaN   \n",
       "std      19320.884180           NaN            NaN                  NaN   \n",
       "min      80308.000000           NaN            NaN                  NaN   \n",
       "25%      97040.000000           NaN            NaN                  NaN   \n",
       "50%     113772.000000           NaN            NaN                  NaN   \n",
       "75%     130504.000000           NaN            NaN                  NaN   \n",
       "max     147241.000000           NaN            NaN                  NaN   \n",
       "\n",
       "         tutorial_id       user_id  \n",
       "count   32942.000000  66929.000000  \n",
       "unique           NaN           NaN  \n",
       "top              NaN           NaN  \n",
       "freq             NaN           NaN  \n",
       "mean    40529.649323  37777.074273  \n",
       "std      5211.593585   5748.910912  \n",
       "min     31505.000000  27832.000000  \n",
       "25%     36007.000000  32847.000000  \n",
       "50%     40526.500000  37712.000000  \n",
       "75%     45052.000000  42722.000000  \n",
       "max     49549.000000  47745.000000  "
      ]
     },
     "metadata": {},
     "output_type": "display_data"
    },
    {
     "data": {
      "text/plain": [
       "'Количество уникальных значений в столбце event_type (тип события пользователя): '"
      ]
     },
     "metadata": {},
     "output_type": "display_data"
    },
    {
     "data": {
      "text/plain": [
       "array(['registration', 'tutorial_start', 'tutorial_finish',\n",
       "       'level_choice', 'pack_choice'], dtype=object)"
      ]
     },
     "metadata": {},
     "output_type": "display_data"
    },
    {
     "data": {
      "text/plain": [
       "'Количество уникальных значений в столбце selected_level (выбор уровня сложности вопросов):'"
      ]
     },
     "metadata": {},
     "output_type": "display_data"
    },
    {
     "data": {
      "text/plain": [
       "array([nan, 'medium', 'hard', 'easy'], dtype=object)"
      ]
     },
     "metadata": {},
     "output_type": "display_data"
    },
    {
     "data": {
      "text/plain": [
       "'Выделим пользователей, совершавших покупки в 2018 году, записав в новый датафрэйм purchase_df_2018'"
      ]
     },
     "metadata": {},
     "output_type": "display_data"
    },
    {
     "data": {
      "text/html": [
       "<div>\n",
       "<style scoped>\n",
       "    .dataframe tbody tr th:only-of-type {\n",
       "        vertical-align: middle;\n",
       "    }\n",
       "\n",
       "    .dataframe tbody tr th {\n",
       "        vertical-align: top;\n",
       "    }\n",
       "\n",
       "    .dataframe thead th {\n",
       "        text-align: right;\n",
       "    }\n",
       "</style>\n",
       "<table border=\"1\" class=\"dataframe\">\n",
       "  <thead>\n",
       "    <tr style=\"text-align: right;\">\n",
       "      <th></th>\n",
       "      <th>id</th>\n",
       "      <th>user_id</th>\n",
       "      <th>event_datetime</th>\n",
       "      <th>amount</th>\n",
       "    </tr>\n",
       "  </thead>\n",
       "  <tbody>\n",
       "    <tr>\n",
       "      <th>1171</th>\n",
       "      <td>16845</td>\n",
       "      <td>27845</td>\n",
       "      <td>2018-01-03T18:53:43</td>\n",
       "      <td>100</td>\n",
       "    </tr>\n",
       "    <tr>\n",
       "      <th>1172</th>\n",
       "      <td>16846</td>\n",
       "      <td>27865</td>\n",
       "      <td>2018-01-04T14:46:10</td>\n",
       "      <td>250</td>\n",
       "    </tr>\n",
       "    <tr>\n",
       "      <th>1174</th>\n",
       "      <td>16848</td>\n",
       "      <td>27911</td>\n",
       "      <td>2018-01-07T08:19:12</td>\n",
       "      <td>50</td>\n",
       "    </tr>\n",
       "    <tr>\n",
       "      <th>1175</th>\n",
       "      <td>16849</td>\n",
       "      <td>27910</td>\n",
       "      <td>2018-01-07T12:11:34</td>\n",
       "      <td>100</td>\n",
       "    </tr>\n",
       "    <tr>\n",
       "      <th>1176</th>\n",
       "      <td>16850</td>\n",
       "      <td>27940</td>\n",
       "      <td>2018-01-07T13:16:41</td>\n",
       "      <td>200</td>\n",
       "    </tr>\n",
       "  </tbody>\n",
       "</table>\n",
       "</div>"
      ],
      "text/plain": [
       "         id  user_id       event_datetime  amount\n",
       "1171  16845    27845  2018-01-03T18:53:43     100\n",
       "1172  16846    27865  2018-01-04T14:46:10     250\n",
       "1174  16848    27911  2018-01-07T08:19:12      50\n",
       "1175  16849    27910  2018-01-07T12:11:34     100\n",
       "1176  16850    27940  2018-01-07T13:16:41     200"
      ]
     },
     "metadata": {},
     "output_type": "display_data"
    },
    {
     "data": {
      "text/plain": [
       "'Общая информация о таблице purchase_df_2018'"
      ]
     },
     "metadata": {},
     "output_type": "display_data"
    },
    {
     "name": "stdout",
     "output_type": "stream",
     "text": [
      "<class 'pandas.core.frame.DataFrame'>\n",
      "Index: 1600 entries, 1171 to 2778\n",
      "Data columns (total 4 columns):\n",
      " #   Column          Non-Null Count  Dtype \n",
      "---  ------          --------------  ----- \n",
      " 0   id              1600 non-null   int64 \n",
      " 1   user_id         1600 non-null   int64 \n",
      " 2   event_datetime  1600 non-null   object\n",
      " 3   amount          1600 non-null   int64 \n",
      "dtypes: int64(3), object(1)\n",
      "memory usage: 62.5+ KB\n"
     ]
    },
    {
     "name": "stderr",
     "output_type": "stream",
     "text": [
      "C:\\Temp\\ipykernel_11700\\3764766559.py:24: SettingWithCopyWarning: \n",
      "A value is trying to be set on a copy of a slice from a DataFrame.\n",
      "Try using .loc[row_indexer,col_indexer] = value instead\n",
      "\n",
      "See the caveats in the documentation: https://pandas.pydata.org/pandas-docs/stable/user_guide/indexing.html#returning-a-view-versus-a-copy\n",
      "  purchase_df_2018['event_type'] = 'purchase' # создаем новый столбец \"event_type\" (тип события пользователя) с записью в строке \"purchase\" (покупка)\n"
     ]
    },
    {
     "data": {
      "text/plain": [
       "'Таблица purchase_df_2018 с новым столбцом'"
      ]
     },
     "metadata": {},
     "output_type": "display_data"
    },
    {
     "data": {
      "text/html": [
       "<div>\n",
       "<style scoped>\n",
       "    .dataframe tbody tr th:only-of-type {\n",
       "        vertical-align: middle;\n",
       "    }\n",
       "\n",
       "    .dataframe tbody tr th {\n",
       "        vertical-align: top;\n",
       "    }\n",
       "\n",
       "    .dataframe thead th {\n",
       "        text-align: right;\n",
       "    }\n",
       "</style>\n",
       "<table border=\"1\" class=\"dataframe\">\n",
       "  <thead>\n",
       "    <tr style=\"text-align: right;\">\n",
       "      <th></th>\n",
       "      <th>id</th>\n",
       "      <th>user_id</th>\n",
       "      <th>event_datetime</th>\n",
       "      <th>amount</th>\n",
       "      <th>event_type</th>\n",
       "    </tr>\n",
       "  </thead>\n",
       "  <tbody>\n",
       "    <tr>\n",
       "      <th>1171</th>\n",
       "      <td>16845</td>\n",
       "      <td>27845</td>\n",
       "      <td>2018-01-03T18:53:43</td>\n",
       "      <td>100</td>\n",
       "      <td>purchase</td>\n",
       "    </tr>\n",
       "    <tr>\n",
       "      <th>1172</th>\n",
       "      <td>16846</td>\n",
       "      <td>27865</td>\n",
       "      <td>2018-01-04T14:46:10</td>\n",
       "      <td>250</td>\n",
       "      <td>purchase</td>\n",
       "    </tr>\n",
       "    <tr>\n",
       "      <th>1174</th>\n",
       "      <td>16848</td>\n",
       "      <td>27911</td>\n",
       "      <td>2018-01-07T08:19:12</td>\n",
       "      <td>50</td>\n",
       "      <td>purchase</td>\n",
       "    </tr>\n",
       "    <tr>\n",
       "      <th>1175</th>\n",
       "      <td>16849</td>\n",
       "      <td>27910</td>\n",
       "      <td>2018-01-07T12:11:34</td>\n",
       "      <td>100</td>\n",
       "      <td>purchase</td>\n",
       "    </tr>\n",
       "    <tr>\n",
       "      <th>1176</th>\n",
       "      <td>16850</td>\n",
       "      <td>27940</td>\n",
       "      <td>2018-01-07T13:16:41</td>\n",
       "      <td>200</td>\n",
       "      <td>purchase</td>\n",
       "    </tr>\n",
       "  </tbody>\n",
       "</table>\n",
       "</div>"
      ],
      "text/plain": [
       "         id  user_id       event_datetime  amount event_type\n",
       "1171  16845    27845  2018-01-03T18:53:43     100   purchase\n",
       "1172  16846    27865  2018-01-04T14:46:10     250   purchase\n",
       "1174  16848    27911  2018-01-07T08:19:12      50   purchase\n",
       "1175  16849    27910  2018-01-07T12:11:34     100   purchase\n",
       "1176  16850    27940  2018-01-07T13:16:41     200   purchase"
      ]
     },
     "metadata": {},
     "output_type": "display_data"
    },
    {
     "data": {
      "text/plain": [
       "'Объединенная таблица: '"
      ]
     },
     "metadata": {},
     "output_type": "display_data"
    },
    {
     "data": {
      "text/html": [
       "<div>\n",
       "<style scoped>\n",
       "    .dataframe tbody tr th:only-of-type {\n",
       "        vertical-align: middle;\n",
       "    }\n",
       "\n",
       "    .dataframe tbody tr th {\n",
       "        vertical-align: top;\n",
       "    }\n",
       "\n",
       "    .dataframe thead th {\n",
       "        text-align: right;\n",
       "    }\n",
       "</style>\n",
       "<table border=\"1\" class=\"dataframe\">\n",
       "  <thead>\n",
       "    <tr style=\"text-align: right;\">\n",
       "      <th></th>\n",
       "      <th>event_id</th>\n",
       "      <th>event_type</th>\n",
       "      <th>selected_level</th>\n",
       "      <th>start_time</th>\n",
       "      <th>tutorial_id</th>\n",
       "      <th>user_id</th>\n",
       "      <th>purchase_id</th>\n",
       "      <th>amount</th>\n",
       "    </tr>\n",
       "  </thead>\n",
       "  <tbody>\n",
       "    <tr>\n",
       "      <th>0</th>\n",
       "      <td>80308.0</td>\n",
       "      <td>registration</td>\n",
       "      <td>NaN</td>\n",
       "      <td>2018-01-01 03:48:40</td>\n",
       "      <td>NaN</td>\n",
       "      <td>27832</td>\n",
       "      <td>NaN</td>\n",
       "      <td>NaN</td>\n",
       "    </tr>\n",
       "    <tr>\n",
       "      <th>1</th>\n",
       "      <td>80309.0</td>\n",
       "      <td>registration</td>\n",
       "      <td>NaN</td>\n",
       "      <td>2018-01-01 04:07:25</td>\n",
       "      <td>NaN</td>\n",
       "      <td>27833</td>\n",
       "      <td>NaN</td>\n",
       "      <td>NaN</td>\n",
       "    </tr>\n",
       "    <tr>\n",
       "      <th>2</th>\n",
       "      <td>80310.0</td>\n",
       "      <td>registration</td>\n",
       "      <td>NaN</td>\n",
       "      <td>2018-01-01 08:35:10</td>\n",
       "      <td>NaN</td>\n",
       "      <td>27834</td>\n",
       "      <td>NaN</td>\n",
       "      <td>NaN</td>\n",
       "    </tr>\n",
       "    <tr>\n",
       "      <th>3</th>\n",
       "      <td>80311.0</td>\n",
       "      <td>registration</td>\n",
       "      <td>NaN</td>\n",
       "      <td>2018-01-01 11:54:47</td>\n",
       "      <td>NaN</td>\n",
       "      <td>27835</td>\n",
       "      <td>NaN</td>\n",
       "      <td>NaN</td>\n",
       "    </tr>\n",
       "    <tr>\n",
       "      <th>4</th>\n",
       "      <td>80312.0</td>\n",
       "      <td>registration</td>\n",
       "      <td>NaN</td>\n",
       "      <td>2018-01-01 13:28:07</td>\n",
       "      <td>NaN</td>\n",
       "      <td>27836</td>\n",
       "      <td>NaN</td>\n",
       "      <td>NaN</td>\n",
       "    </tr>\n",
       "  </tbody>\n",
       "</table>\n",
       "</div>"
      ],
      "text/plain": [
       "   event_id    event_type selected_level          start_time  tutorial_id  \\\n",
       "0   80308.0  registration            NaN 2018-01-01 03:48:40          NaN   \n",
       "1   80309.0  registration            NaN 2018-01-01 04:07:25          NaN   \n",
       "2   80310.0  registration            NaN 2018-01-01 08:35:10          NaN   \n",
       "3   80311.0  registration            NaN 2018-01-01 11:54:47          NaN   \n",
       "4   80312.0  registration            NaN 2018-01-01 13:28:07          NaN   \n",
       "\n",
       "   user_id  purchase_id  amount  \n",
       "0    27832          NaN     NaN  \n",
       "1    27833          NaN     NaN  \n",
       "2    27834          NaN     NaN  \n",
       "3    27835          NaN     NaN  \n",
       "4    27836          NaN     NaN  "
      ]
     },
     "metadata": {},
     "output_type": "display_data"
    },
    {
     "data": {
      "text/plain": [
       "'Общая информация об объединенной таблице'"
      ]
     },
     "metadata": {},
     "output_type": "display_data"
    },
    {
     "name": "stdout",
     "output_type": "stream",
     "text": [
      "<class 'pandas.core.frame.DataFrame'>\n",
      "RangeIndex: 68529 entries, 0 to 68528\n",
      "Data columns (total 8 columns):\n",
      " #   Column          Non-Null Count  Dtype         \n",
      "---  ------          --------------  -----         \n",
      " 0   event_id        66929 non-null  float64       \n",
      " 1   event_type      68529 non-null  object        \n",
      " 2   selected_level  8338 non-null   object        \n",
      " 3   start_time      68529 non-null  datetime64[ns]\n",
      " 4   tutorial_id     32942 non-null  float64       \n",
      " 5   user_id         68529 non-null  int64         \n",
      " 6   purchase_id     1600 non-null   float64       \n",
      " 7   amount          1600 non-null   float64       \n",
      "dtypes: datetime64[ns](1), float64(4), int64(1), object(2)\n",
      "memory usage: 4.2+ MB\n"
     ]
    },
    {
     "data": {
      "text/plain": [
       "None"
      ]
     },
     "metadata": {},
     "output_type": "display_data"
    },
    {
     "data": {
      "text/plain": [
       "'Данная таблица будет использована при решении Задачи 1: '"
      ]
     },
     "metadata": {},
     "output_type": "display_data"
    },
    {
     "data": {
      "text/html": [
       "<div>\n",
       "<style scoped>\n",
       "    .dataframe tbody tr th:only-of-type {\n",
       "        vertical-align: middle;\n",
       "    }\n",
       "\n",
       "    .dataframe tbody tr th {\n",
       "        vertical-align: top;\n",
       "    }\n",
       "\n",
       "    .dataframe thead th {\n",
       "        text-align: right;\n",
       "    }\n",
       "</style>\n",
       "<table border=\"1\" class=\"dataframe\">\n",
       "  <thead>\n",
       "    <tr style=\"text-align: right;\">\n",
       "      <th></th>\n",
       "      <th>user_id</th>\n",
       "      <th>event_type</th>\n",
       "      <th>start_time</th>\n",
       "    </tr>\n",
       "  </thead>\n",
       "  <tbody>\n",
       "    <tr>\n",
       "      <th>0</th>\n",
       "      <td>27832</td>\n",
       "      <td>registration</td>\n",
       "      <td>2018-01-01 03:48:40</td>\n",
       "    </tr>\n",
       "    <tr>\n",
       "      <th>1</th>\n",
       "      <td>27833</td>\n",
       "      <td>registration</td>\n",
       "      <td>2018-01-01 04:07:25</td>\n",
       "    </tr>\n",
       "    <tr>\n",
       "      <th>2</th>\n",
       "      <td>27834</td>\n",
       "      <td>registration</td>\n",
       "      <td>2018-01-01 08:35:10</td>\n",
       "    </tr>\n",
       "    <tr>\n",
       "      <th>3</th>\n",
       "      <td>27835</td>\n",
       "      <td>registration</td>\n",
       "      <td>2018-01-01 11:54:47</td>\n",
       "    </tr>\n",
       "    <tr>\n",
       "      <th>4</th>\n",
       "      <td>27836</td>\n",
       "      <td>registration</td>\n",
       "      <td>2018-01-01 13:28:07</td>\n",
       "    </tr>\n",
       "  </tbody>\n",
       "</table>\n",
       "</div>"
      ],
      "text/plain": [
       "   user_id    event_type          start_time\n",
       "0    27832  registration 2018-01-01 03:48:40\n",
       "1    27833  registration 2018-01-01 04:07:25\n",
       "2    27834  registration 2018-01-01 08:35:10\n",
       "3    27835  registration 2018-01-01 11:54:47\n",
       "4    27836  registration 2018-01-01 13:28:07"
      ]
     },
     "metadata": {},
     "output_type": "display_data"
    }
   ],
   "source": [
    "display(\"Возьмем из 1-й таблицы данные только за 2018 год, записав в новый датафрэйм events_df_2018\")\n",
    "# отфильтруем данные о пользователях, зарегистрировавшихся в 2018 году\n",
    "mask = (events_df['start_time'] >='2018-01-01')&(events_df['start_time'] <='2018-12-31')&(events_df['event_type'] =='registration') \n",
    "user_2018 = events_df[mask]['user_id'].to_list()\n",
    "events_df_2018 = events_df[events_df['user_id'].isin(user_2018)]\n",
    "\n",
    "display(events_df_2018.head())\n",
    "display(\"Общая информация о таблице events_df_2018\")\n",
    "display()\n",
    "events_df_2018.info() # После перезаписи видно,  таблица сократилась по сравнению с исходной\n",
    "display(events_df_2018.describe(include='all'))\n",
    "display(\"Количество уникальных значений в столбце event_type (тип события пользователя): \", events_df_2018['event_type'].unique()) \n",
    "display(\"Количество уникальных значений в столбце selected_level (выбор уровня сложности вопросов):\", events_df_2018['selected_level'].unique())\n",
    "\n",
    "\n",
    "purchase_df_2018 = purchase_df[purchase_df['user_id'].isin(user_2018)]\n",
    "display(\"Выделим пользователей, совершавших покупки в 2018 году, записав в новый датафрэйм purchase_df_2018\")\n",
    "display(purchase_df_2018.head())\n",
    "display()\n",
    "display(\"Общая информация о таблице purchase_df_2018\")\n",
    "display()\n",
    "purchase_df_2018.info() # После перезаписи видно, что таблица сократилать по сравненю с исходной\n",
    "\n",
    "purchase_df_2018['event_type'] = 'purchase' # создаем новый столбец \"event_type\" (тип события пользователя) с записью в строке \"purchase\" (покупка)\n",
    "display(\"Таблица purchase_df_2018 с новым столбцом\", purchase_df_2018.head())\n",
    "\n",
    "events_df_2018 = events_df_2018.rename(columns={'id':'event_id'}) # переименуем столбец в таблице событий за 2018 год\n",
    "purchase_df_2018 = purchase_df_2018.rename(columns={'id':'purchase_id','event_datetime':'start_time'}) # переименовываем столбец в таблице покупок за 2018 год\n",
    "total_events_df = pd.concat([events_df_2018,purchase_df_2018], sort=False) # объединяем таблицы\n",
    "total_events_df['start_time'] = pd.to_datetime(total_events_df['start_time']) # преобразовываем данные столбца о времени старта обучения объединенной таблице во временной тип. \n",
    "total_events_df = total_events_df.reset_index(drop=True) \n",
    "\n",
    "display(\"Объединенная таблица: \", total_events_df.head()) # проверяем правильно ли объединили таблицу\n",
    "display(\"Общая информация об объединенной таблице\")\n",
    "display(total_events_df.info()) # проверяем изменение типа данных в столбце времени\n",
    "\n",
    "#total_events_df1 = total_events_df.drop(['event_id', 'selected_level', 'tutorial_id', 'purchase_id', 'amount'], axis=1) # Убираем лишние столбцы.\n",
    "#display(total_events_df1.head())\n",
    "\n",
    "total_events_df2 = total_events_df[['user_id', 'event_type', 'start_time' ]] # Или оставляем только нужные столбцы\n",
    "display(\"Данная таблица будет использована при решении Задачи 1: \", total_events_df2.head())\n"
   ]
  },
  {
   "attachments": {},
   "cell_type": "markdown",
   "metadata": {},
   "source": [
    "## Задача 1.\n",
    " Чтобы пределить, отличается ли время прохождения различных этапов у пользователей, которые прошли обучение, и пользователей, не начинавших обучение, и, если отличается, то насколько обучение сокращает время прохождения этапов игры, проанализируем при помощи построения сводных таблиц поведение пользоватетей, прошедших и не прошедших обучение, сравнивая их скорость перехода к покупке дополнительных вопросов.\n",
    "\n",
    " При этом будем считать, что нет принципиальной разницы между теми пользователями, что начинали обучение и не закончили его, и теми, кто даже не начинал обучение. То есть будем исходить из проверяемой гипотезы: успешное обучение влияет на решение продолжать играть и преобретать дополнительные вопросы. "
   ]
  },
  {
   "cell_type": "code",
   "execution_count": 3,
   "metadata": {},
   "outputs": [
    {
     "data": {
      "text/plain": [
       "\"Сводная таблица 'Тип действия': \""
      ]
     },
     "metadata": {},
     "output_type": "display_data"
    },
    {
     "data": {
      "text/html": [
       "<div>\n",
       "<style scoped>\n",
       "    .dataframe tbody tr th:only-of-type {\n",
       "        vertical-align: middle;\n",
       "    }\n",
       "\n",
       "    .dataframe tbody tr th {\n",
       "        vertical-align: top;\n",
       "    }\n",
       "\n",
       "    .dataframe thead th {\n",
       "        text-align: right;\n",
       "    }\n",
       "</style>\n",
       "<table border=\"1\" class=\"dataframe\">\n",
       "  <thead>\n",
       "    <tr style=\"text-align: right;\">\n",
       "      <th>event_type</th>\n",
       "      <th>user_id</th>\n",
       "      <th>level_choice</th>\n",
       "      <th>pack_choice</th>\n",
       "      <th>purchase</th>\n",
       "      <th>registration</th>\n",
       "      <th>tutorial_finish</th>\n",
       "      <th>tutorial_start</th>\n",
       "    </tr>\n",
       "  </thead>\n",
       "  <tbody>\n",
       "    <tr>\n",
       "      <th>0</th>\n",
       "      <td>27832</td>\n",
       "      <td>NaT</td>\n",
       "      <td>NaT</td>\n",
       "      <td>NaT</td>\n",
       "      <td>2018-01-01 03:48:40</td>\n",
       "      <td>NaT</td>\n",
       "      <td>NaT</td>\n",
       "    </tr>\n",
       "    <tr>\n",
       "      <th>1</th>\n",
       "      <td>27833</td>\n",
       "      <td>NaT</td>\n",
       "      <td>NaT</td>\n",
       "      <td>NaT</td>\n",
       "      <td>2018-01-01 04:07:25</td>\n",
       "      <td>2018-01-01 17:50:08</td>\n",
       "      <td>2018-01-01 17:47:40</td>\n",
       "    </tr>\n",
       "    <tr>\n",
       "      <th>2</th>\n",
       "      <td>27834</td>\n",
       "      <td>NaT</td>\n",
       "      <td>NaT</td>\n",
       "      <td>NaT</td>\n",
       "      <td>2018-01-01 08:35:10</td>\n",
       "      <td>2018-01-01 19:48:01</td>\n",
       "      <td>2018-01-01 19:46:11</td>\n",
       "    </tr>\n",
       "    <tr>\n",
       "      <th>3</th>\n",
       "      <td>27835</td>\n",
       "      <td>2018-01-01 20:37:22</td>\n",
       "      <td>2018-01-01 20:38:43</td>\n",
       "      <td>NaT</td>\n",
       "      <td>2018-01-01 11:54:47</td>\n",
       "      <td>2018-01-01 15:06:15</td>\n",
       "      <td>2018-01-01 15:00:51</td>\n",
       "    </tr>\n",
       "    <tr>\n",
       "      <th>4</th>\n",
       "      <td>27836</td>\n",
       "      <td>NaT</td>\n",
       "      <td>NaT</td>\n",
       "      <td>NaT</td>\n",
       "      <td>2018-01-01 13:28:07</td>\n",
       "      <td>2018-01-01 15:42:58</td>\n",
       "      <td>2018-01-01 14:54:40</td>\n",
       "    </tr>\n",
       "  </tbody>\n",
       "</table>\n",
       "</div>"
      ],
      "text/plain": [
       "event_type  user_id        level_choice         pack_choice purchase  \\\n",
       "0             27832                 NaT                 NaT      NaT   \n",
       "1             27833                 NaT                 NaT      NaT   \n",
       "2             27834                 NaT                 NaT      NaT   \n",
       "3             27835 2018-01-01 20:37:22 2018-01-01 20:38:43      NaT   \n",
       "4             27836                 NaT                 NaT      NaT   \n",
       "\n",
       "event_type        registration     tutorial_finish      tutorial_start  \n",
       "0          2018-01-01 03:48:40                 NaT                 NaT  \n",
       "1          2018-01-01 04:07:25 2018-01-01 17:50:08 2018-01-01 17:47:40  \n",
       "2          2018-01-01 08:35:10 2018-01-01 19:48:01 2018-01-01 19:46:11  \n",
       "3          2018-01-01 11:54:47 2018-01-01 15:06:15 2018-01-01 15:00:51  \n",
       "4          2018-01-01 13:28:07 2018-01-01 15:42:58 2018-01-01 14:54:40  "
      ]
     },
     "metadata": {},
     "output_type": "display_data"
    },
    {
     "data": {
      "text/plain": [
       "'Число всех пользователей '"
      ]
     },
     "metadata": {},
     "output_type": "display_data"
    },
    {
     "data": {
      "text/plain": [
       "19914"
      ]
     },
     "metadata": {},
     "output_type": "display_data"
    },
    {
     "data": {
      "text/plain": [
       "'Число пользователей, прошедших обучение'"
      ]
     },
     "metadata": {},
     "output_type": "display_data"
    },
    {
     "data": {
      "text/plain": [
       "10244"
      ]
     },
     "metadata": {},
     "output_type": "display_data"
    },
    {
     "data": {
      "text/plain": [
       "\"Таблица 'тип действия' с новым столбцом, разделяющим пользователей по принципу успешного прохождения обучения:\""
      ]
     },
     "metadata": {},
     "output_type": "display_data"
    },
    {
     "data": {
      "text/html": [
       "<div>\n",
       "<style scoped>\n",
       "    .dataframe tbody tr th:only-of-type {\n",
       "        vertical-align: middle;\n",
       "    }\n",
       "\n",
       "    .dataframe tbody tr th {\n",
       "        vertical-align: top;\n",
       "    }\n",
       "\n",
       "    .dataframe thead th {\n",
       "        text-align: right;\n",
       "    }\n",
       "</style>\n",
       "<table border=\"1\" class=\"dataframe\">\n",
       "  <thead>\n",
       "    <tr style=\"text-align: right;\">\n",
       "      <th>event_type</th>\n",
       "      <th>user_id</th>\n",
       "      <th>level_choice</th>\n",
       "      <th>pack_choice</th>\n",
       "      <th>purchase</th>\n",
       "      <th>registration</th>\n",
       "      <th>tutorial_finish</th>\n",
       "      <th>tutorial_start</th>\n",
       "      <th>tutorial_endet</th>\n",
       "    </tr>\n",
       "  </thead>\n",
       "  <tbody>\n",
       "    <tr>\n",
       "      <th>0</th>\n",
       "      <td>27832</td>\n",
       "      <td>NaT</td>\n",
       "      <td>NaT</td>\n",
       "      <td>NaT</td>\n",
       "      <td>2018-01-01 03:48:40</td>\n",
       "      <td>NaT</td>\n",
       "      <td>NaT</td>\n",
       "      <td>не прошли обучение</td>\n",
       "    </tr>\n",
       "    <tr>\n",
       "      <th>1</th>\n",
       "      <td>27833</td>\n",
       "      <td>NaT</td>\n",
       "      <td>NaT</td>\n",
       "      <td>NaT</td>\n",
       "      <td>2018-01-01 04:07:25</td>\n",
       "      <td>2018-01-01 17:50:08</td>\n",
       "      <td>2018-01-01 17:47:40</td>\n",
       "      <td>прошли обучение</td>\n",
       "    </tr>\n",
       "    <tr>\n",
       "      <th>2</th>\n",
       "      <td>27834</td>\n",
       "      <td>NaT</td>\n",
       "      <td>NaT</td>\n",
       "      <td>NaT</td>\n",
       "      <td>2018-01-01 08:35:10</td>\n",
       "      <td>2018-01-01 19:48:01</td>\n",
       "      <td>2018-01-01 19:46:11</td>\n",
       "      <td>прошли обучение</td>\n",
       "    </tr>\n",
       "    <tr>\n",
       "      <th>3</th>\n",
       "      <td>27835</td>\n",
       "      <td>2018-01-01 20:37:22</td>\n",
       "      <td>2018-01-01 20:38:43</td>\n",
       "      <td>NaT</td>\n",
       "      <td>2018-01-01 11:54:47</td>\n",
       "      <td>2018-01-01 15:06:15</td>\n",
       "      <td>2018-01-01 15:00:51</td>\n",
       "      <td>прошли обучение</td>\n",
       "    </tr>\n",
       "    <tr>\n",
       "      <th>4</th>\n",
       "      <td>27836</td>\n",
       "      <td>NaT</td>\n",
       "      <td>NaT</td>\n",
       "      <td>NaT</td>\n",
       "      <td>2018-01-01 13:28:07</td>\n",
       "      <td>2018-01-01 15:42:58</td>\n",
       "      <td>2018-01-01 14:54:40</td>\n",
       "      <td>прошли обучение</td>\n",
       "    </tr>\n",
       "  </tbody>\n",
       "</table>\n",
       "</div>"
      ],
      "text/plain": [
       "event_type  user_id        level_choice         pack_choice purchase  \\\n",
       "0             27832                 NaT                 NaT      NaT   \n",
       "1             27833                 NaT                 NaT      NaT   \n",
       "2             27834                 NaT                 NaT      NaT   \n",
       "3             27835 2018-01-01 20:37:22 2018-01-01 20:38:43      NaT   \n",
       "4             27836                 NaT                 NaT      NaT   \n",
       "\n",
       "event_type        registration     tutorial_finish      tutorial_start  \\\n",
       "0          2018-01-01 03:48:40                 NaT                 NaT   \n",
       "1          2018-01-01 04:07:25 2018-01-01 17:50:08 2018-01-01 17:47:40   \n",
       "2          2018-01-01 08:35:10 2018-01-01 19:48:01 2018-01-01 19:46:11   \n",
       "3          2018-01-01 11:54:47 2018-01-01 15:06:15 2018-01-01 15:00:51   \n",
       "4          2018-01-01 13:28:07 2018-01-01 15:42:58 2018-01-01 14:54:40   \n",
       "\n",
       "event_type      tutorial_endet  \n",
       "0           не прошли обучение  \n",
       "1              прошли обучение  \n",
       "2              прошли обучение  \n",
       "3              прошли обучение  \n",
       "4              прошли обучение  "
      ]
     },
     "metadata": {},
     "output_type": "display_data"
    },
    {
     "data": {
      "text/plain": [
       "'Общая информация о получившейся сводной таблице: есть данные о прохождении обучения для каждого пользователя'"
      ]
     },
     "metadata": {},
     "output_type": "display_data"
    },
    {
     "name": "stdout",
     "output_type": "stream",
     "text": [
      "<class 'pandas.core.frame.DataFrame'>\n",
      "RangeIndex: 19914 entries, 0 to 19913\n",
      "Data columns (total 8 columns):\n",
      " #   Column           Non-Null Count  Dtype         \n",
      "---  ------           --------------  -----         \n",
      " 0   user_id          19914 non-null  int64         \n",
      " 1   level_choice     8338 non-null   datetime64[ns]\n",
      " 2   pack_choice      5735 non-null   datetime64[ns]\n",
      " 3   purchase         1600 non-null   datetime64[ns]\n",
      " 4   registration     19914 non-null  datetime64[ns]\n",
      " 5   tutorial_finish  10244 non-null  datetime64[ns]\n",
      " 6   tutorial_start   11852 non-null  datetime64[ns]\n",
      " 7   tutorial_endet   19914 non-null  object        \n",
      "dtypes: datetime64[ns](6), int64(1), object(1)\n",
      "memory usage: 1.2+ MB\n"
     ]
    },
    {
     "data": {
      "text/plain": [
       "None"
      ]
     },
     "metadata": {},
     "output_type": "display_data"
    },
    {
     "data": {
      "text/plain": [
       "'Часло пользователей, купивших вопросы, но не обучавшихся:'"
      ]
     },
     "metadata": {},
     "output_type": "display_data"
    },
    {
     "data": {
      "text/plain": [
       "153"
      ]
     },
     "metadata": {},
     "output_type": "display_data"
    },
    {
     "name": "stdout",
     "output_type": "stream",
     "text": [
      "<class 'pandas.core.frame.DataFrame'>\n",
      "Index: 9670 entries, 0 to 19913\n",
      "Data columns (total 8 columns):\n",
      " #   Column           Non-Null Count  Dtype         \n",
      "---  ------           --------------  -----         \n",
      " 0   user_id          9670 non-null   int64         \n",
      " 1   level_choice     841 non-null    datetime64[ns]\n",
      " 2   pack_choice      561 non-null    datetime64[ns]\n",
      " 3   purchase         153 non-null    datetime64[ns]\n",
      " 4   registration     9670 non-null   datetime64[ns]\n",
      " 5   tutorial_finish  0 non-null      datetime64[ns]\n",
      " 6   tutorial_start   1608 non-null   datetime64[ns]\n",
      " 7   tutorial_endet   9670 non-null   object        \n",
      "dtypes: datetime64[ns](6), int64(1), object(1)\n",
      "memory usage: 679.9+ KB\n"
     ]
    },
    {
     "data": {
      "text/plain": [
       "None"
      ]
     },
     "metadata": {},
     "output_type": "display_data"
    },
    {
     "data": {
      "text/plain": [
       "' Доля прошедших обучение пользователей в числе покупателей: 90.44%'"
      ]
     },
     "metadata": {},
     "output_type": "display_data"
    },
    {
     "data": {
      "text/plain": [
       "'Доля не прошедших обучение пользователей в числе покупателей: 9.56%'"
      ]
     },
     "metadata": {},
     "output_type": "display_data"
    }
   ],
   "source": [
    "pivot_tedf_2018 = total_events_df.pivot_table( # создадим сводную таблицу на основе столбца \"тип действия\"\n",
    "    values='start_time',\n",
    "    index='user_id',\n",
    "    columns='event_type',\n",
    "    aggfunc='min' # агрегируем по самому ранннему действию\n",
    ").reset_index(drop=False)\n",
    "\n",
    "display(\"Сводная таблица 'Тип действия': \", pivot_tedf_2018.head())\n",
    "\n",
    "tf_users_fin = total_events_df[total_events_df['event_type'] == 'tutorial_finish']['user_id'].unique() # выделим группу закончивших обучение, записав в отдельное множество\n",
    "set_tf_users_fin = set(tf_users_fin)\n",
    "tf_users_all = total_events_df['user_id'].unique() # выделим всех пользователей в отдельное множество\n",
    "set_tf_users_all = set(tf_users_all)\n",
    "\n",
    "display(\"Число всех пользователей \", len(set_tf_users_all))\n",
    "display(\"Число пользователей, прошедших обучение\", len(set_tf_users_fin))\n",
    "\n",
    "# Добавим столбец, в котором разделим всех пользователей на прошедших и не прошедших обучение, применив  lambda-функцию для заполнения нового столбца\n",
    "pivot_tedf_2018['tutorial_endet'] = pivot_tedf_2018.apply(lambda x: \"прошли обучение\" if x['user_id'] in set_tf_users_fin  else \"не прошли обучение\", axis=1) \n",
    "display(\"Таблица 'тип действия' с новым столбцом, разделяющим пользователей по принципу успешного прохождения обучения:\", pivot_tedf_2018.head())\n",
    "\n",
    "display(\"Общая информация о получившейся сводной таблице: есть данные о прохождении обучения для каждого пользователя\")\n",
    "display(pivot_tedf_2018.info())\n",
    "\n",
    "pivot_mask_1 = pivot_tedf_2018[pivot_tedf_2018['tutorial_endet'] == \"не прошли обучение\"]\n",
    "display(\"Часло пользователей, купивших вопросы, но не обучавшихся:\", pivot_mask_1['purchase'].count()) \n",
    "\n",
    "display(pivot_mask_1.info())\n",
    "\n",
    "pivot_mask_2 = pivot_tedf_2018[pivot_tedf_2018['tutorial_endet'] == \"прошли обучение\"]\n",
    "pm1 = pivot_mask_2['purchase'].count() / pivot_tedf_2018['purchase'].count()\n",
    "pm2 = pivot_mask_1['purchase'].count() / pivot_tedf_2018['purchase'].count()\n",
    "display(\" Доля прошедших обучение пользователей в числе покупателей: {:.2%}\".format(pm1)) \n",
    "display(\"Доля не прошедших обучение пользователей в числе покупателей: {:.2%}\".format(pm2)) \n",
    "\n",
    "\n",
    "\n",
    "\n"
   ]
  },
  {
   "attachments": {},
   "cell_type": "markdown",
   "metadata": {},
   "source": [
    "Полученые данные позволяют нам сделать вывод о том, успешное обучение само по себе чаще приводит пользователей к покупке новых вопросов для продолжения игры. Группа прошедших обучение в 2018 году больше, тех, кто не учился или не закончил обучение практически в десять раз! \n",
    "\n",
    "Посмотним теперь, влияет ли успешное обучение на скорость принятия решения о покупке новых вопросов. "
   ]
  },
  {
   "cell_type": "code",
   "execution_count": 4,
   "metadata": {},
   "outputs": [
    {
     "data": {
      "text/plain": [
       "'Добавляем столбец, который определит количество часов, прошедших от регистрации до оплаты среди тех, кто прошел и не прошел обучение при помощи объекта Timedelta'"
      ]
     },
     "metadata": {},
     "output_type": "display_data"
    },
    {
     "data": {
      "text/html": [
       "<div>\n",
       "<style scoped>\n",
       "    .dataframe tbody tr th:only-of-type {\n",
       "        vertical-align: middle;\n",
       "    }\n",
       "\n",
       "    .dataframe tbody tr th {\n",
       "        vertical-align: top;\n",
       "    }\n",
       "\n",
       "    .dataframe thead th {\n",
       "        text-align: right;\n",
       "    }\n",
       "</style>\n",
       "<table border=\"1\" class=\"dataframe\">\n",
       "  <thead>\n",
       "    <tr style=\"text-align: right;\">\n",
       "      <th>event_type</th>\n",
       "      <th>user_id</th>\n",
       "      <th>level_choice</th>\n",
       "      <th>pack_choice</th>\n",
       "      <th>purchase</th>\n",
       "      <th>registration</th>\n",
       "      <th>tutorial_finish</th>\n",
       "      <th>tutorial_start</th>\n",
       "      <th>tutorial_endet</th>\n",
       "      <th>timedelta</th>\n",
       "    </tr>\n",
       "  </thead>\n",
       "  <tbody>\n",
       "    <tr>\n",
       "      <th>0</th>\n",
       "      <td>27832</td>\n",
       "      <td>NaT</td>\n",
       "      <td>NaT</td>\n",
       "      <td>NaT</td>\n",
       "      <td>2018-01-01 03:48:40</td>\n",
       "      <td>NaT</td>\n",
       "      <td>NaT</td>\n",
       "      <td>не прошли обучение</td>\n",
       "      <td>NaN</td>\n",
       "    </tr>\n",
       "    <tr>\n",
       "      <th>1</th>\n",
       "      <td>27833</td>\n",
       "      <td>NaT</td>\n",
       "      <td>NaT</td>\n",
       "      <td>NaT</td>\n",
       "      <td>2018-01-01 04:07:25</td>\n",
       "      <td>2018-01-01 17:50:08</td>\n",
       "      <td>2018-01-01 17:47:40</td>\n",
       "      <td>прошли обучение</td>\n",
       "      <td>NaN</td>\n",
       "    </tr>\n",
       "    <tr>\n",
       "      <th>2</th>\n",
       "      <td>27834</td>\n",
       "      <td>NaT</td>\n",
       "      <td>NaT</td>\n",
       "      <td>NaT</td>\n",
       "      <td>2018-01-01 08:35:10</td>\n",
       "      <td>2018-01-01 19:48:01</td>\n",
       "      <td>2018-01-01 19:46:11</td>\n",
       "      <td>прошли обучение</td>\n",
       "      <td>NaN</td>\n",
       "    </tr>\n",
       "    <tr>\n",
       "      <th>3</th>\n",
       "      <td>27835</td>\n",
       "      <td>2018-01-01 20:37:22</td>\n",
       "      <td>2018-01-01 20:38:43</td>\n",
       "      <td>NaT</td>\n",
       "      <td>2018-01-01 11:54:47</td>\n",
       "      <td>2018-01-01 15:06:15</td>\n",
       "      <td>2018-01-01 15:00:51</td>\n",
       "      <td>прошли обучение</td>\n",
       "      <td>NaN</td>\n",
       "    </tr>\n",
       "    <tr>\n",
       "      <th>4</th>\n",
       "      <td>27836</td>\n",
       "      <td>NaT</td>\n",
       "      <td>NaT</td>\n",
       "      <td>NaT</td>\n",
       "      <td>2018-01-01 13:28:07</td>\n",
       "      <td>2018-01-01 15:42:58</td>\n",
       "      <td>2018-01-01 14:54:40</td>\n",
       "      <td>прошли обучение</td>\n",
       "      <td>NaN</td>\n",
       "    </tr>\n",
       "  </tbody>\n",
       "</table>\n",
       "</div>"
      ],
      "text/plain": [
       "event_type  user_id        level_choice         pack_choice purchase  \\\n",
       "0             27832                 NaT                 NaT      NaT   \n",
       "1             27833                 NaT                 NaT      NaT   \n",
       "2             27834                 NaT                 NaT      NaT   \n",
       "3             27835 2018-01-01 20:37:22 2018-01-01 20:38:43      NaT   \n",
       "4             27836                 NaT                 NaT      NaT   \n",
       "\n",
       "event_type        registration     tutorial_finish      tutorial_start  \\\n",
       "0          2018-01-01 03:48:40                 NaT                 NaT   \n",
       "1          2018-01-01 04:07:25 2018-01-01 17:50:08 2018-01-01 17:47:40   \n",
       "2          2018-01-01 08:35:10 2018-01-01 19:48:01 2018-01-01 19:46:11   \n",
       "3          2018-01-01 11:54:47 2018-01-01 15:06:15 2018-01-01 15:00:51   \n",
       "4          2018-01-01 13:28:07 2018-01-01 15:42:58 2018-01-01 14:54:40   \n",
       "\n",
       "event_type      tutorial_endet  timedelta  \n",
       "0           не прошли обучение        NaN  \n",
       "1              прошли обучение        NaN  \n",
       "2              прошли обучение        NaN  \n",
       "3              прошли обучение        NaN  \n",
       "4              прошли обучение        NaN  "
      ]
     },
     "metadata": {},
     "output_type": "display_data"
    },
    {
     "data": {
      "text/plain": [
       "'В среднем проходит часов от регистрации до покупки для тех, кто: '"
      ]
     },
     "metadata": {},
     "output_type": "display_data"
    },
    {
     "data": {
      "text/plain": [
       "tutorial_endet\n",
       "не прошли обучение    102.058920\n",
       "прошли обучение        96.500902\n",
       "Name: timedelta, dtype: float64"
      ]
     },
     "metadata": {},
     "output_type": "display_data"
    },
    {
     "data": {
      "text/plain": [
       "'Средняя разница во времени между регистрацией и оплатой у группы не прошедших обучение и группы прошедших обучение: '"
      ]
     },
     "metadata": {},
     "output_type": "display_data"
    },
    {
     "data": {
      "text/plain": [
       "5.558017695188852"
      ]
     },
     "metadata": {},
     "output_type": "display_data"
    },
    {
     "data": {
      "text/plain": [
       "'или 5 часов 34 минуты'"
      ]
     },
     "metadata": {},
     "output_type": "display_data"
    }
   ],
   "source": [
    "display(\"Добавляем столбец, который определит количество часов, прошедших от регистрации до оплаты среди тех, кто прошел и не прошел обучение при помощи объекта Timedelta\")\n",
    "\n",
    "pivot_tedf_2018['timedelta'] = ((pivot_tedf_2018['purchase'] - pivot_tedf_2018['registration'])) /pd.Timedelta('1 hour') # если отключим pd.Timedelta('1 hour'), получим разницу в часах и минутах\n",
    "display(pivot_tedf_2018.head())\n",
    "td_mean = pivot_tedf_2018.groupby('tutorial_endet')['timedelta'].mean() # Высчитаем среднее количество часов, прошедших от регистрации до покупки у обучившихся и не обучившихся.\n",
    "\n",
    "display(\"В среднем проходит часов от регистрации до покупки для тех, кто: \", td_mean)\n",
    "t_1 = (td_mean['не прошли обучение'] - td_mean['прошли обучение']) # запишем в переменную знавение разности средних значений из переменной td_mean\n",
    "display(\"Средняя разница во времени между регистрацией и оплатой у группы не прошедших обучение и группы прошедших обучение: \", t_1, \"или 5 часов 34 минуты\")\n"
   ]
  },
  {
   "cell_type": "code",
   "execution_count": 5,
   "metadata": {},
   "outputs": [
    {
     "data": {
      "text/plain": [
       "<Axes: title={'center': 'Средний интервал от регистрации до оплаты среди прошедших и не прошедших обучение пользователей'}, xlabel='Пользователи', ylabel='Часы'>"
      ]
     },
     "execution_count": 5,
     "metadata": {},
     "output_type": "execute_result"
    },
    {
     "data": {
      "image/png": "[encoded data removed]",
      "text/plain": [
       "<Figure size 1100x600 with 1 Axes>"
      ]
     },
     "metadata": {},
     "output_type": "display_data"
    }
   ],
   "source": [
    "import matplotlib.pyplot as plt\n",
    "\n",
    "td_mean.plot(\n",
    "    kind='bar',\n",
    "    figsize=(11,6),\n",
    "    title=\"Средний интервал от регистрации до оплаты среди прошедших и не прошедших обучение пользователей\",\n",
    "    grid=True,\n",
    "    xlabel=\"Пользователи\",\n",
    "    ylabel=\"Часы\"\n",
    ")\n"
   ]
  },
  {
   "attachments": {},
   "cell_type": "markdown",
   "metadata": {},
   "source": [
    "График показывает, что прошедшие успешное обучение пользователи переходят к стадии покупки новых вопросов для игры в среднем на 5,55 часа (5 часов, 34 минуты) раньше, чем не прошедшие обучение. Так же важно помнить, что они составляют 90,44% всех покупателей. "
   ]
  },
  {
   "attachments": {},
   "cell_type": "markdown",
   "metadata": {},
   "source": [
    "## Задача 2 \n",
    "\n",
    "Попробуем доказать, что обучение само по себе значимо при решении о покупке новых вопросов и не зависит от частоты прохождения обучения. Для этого нужно рассмотреть как часто пользователи,  начинали обучение, были ли такие, что делали это неоднократно, и как они после этого переходили к покупке новых пакетов. Продолжим работать со сводными таблицами, используя меnод группировки. В итоге мы должны получить информацию о коэффициенте конверсии (пользователей в покупателей), а так же выручке на покупателя. Эти данные помогут ответить на поставленный во второй гипотезе вопрос. "
   ]
  },
  {
   "cell_type": "code",
   "execution_count": 6,
   "metadata": {},
   "outputs": [
    {
     "data": {
      "text/plain": [
       "'Количество строк в таблице : '"
      ]
     },
     "metadata": {},
     "output_type": "display_data"
    },
    {
     "data": {
      "text/plain": [
       "19914"
      ]
     },
     "metadata": {},
     "output_type": "display_data"
    },
    {
     "data": {
      "text/plain": [
       "'Количество попыток обучения, совершаемых пользователями (для каждого пользователя):'"
      ]
     },
     "metadata": {},
     "output_type": "display_data"
    },
    {
     "data": {
      "text/html": [
       "<div>\n",
       "<style scoped>\n",
       "    .dataframe tbody tr th:only-of-type {\n",
       "        vertical-align: middle;\n",
       "    }\n",
       "\n",
       "    .dataframe tbody tr th {\n",
       "        vertical-align: top;\n",
       "    }\n",
       "\n",
       "    .dataframe thead th {\n",
       "        text-align: right;\n",
       "    }\n",
       "</style>\n",
       "<table border=\"1\" class=\"dataframe\">\n",
       "  <thead>\n",
       "    <tr style=\"text-align: right;\">\n",
       "      <th></th>\n",
       "      <th>user_id</th>\n",
       "      <th>tutorial_id</th>\n",
       "    </tr>\n",
       "  </thead>\n",
       "  <tbody>\n",
       "    <tr>\n",
       "      <th>0</th>\n",
       "      <td>27833</td>\n",
       "      <td>1</td>\n",
       "    </tr>\n",
       "    <tr>\n",
       "      <th>1</th>\n",
       "      <td>27834</td>\n",
       "      <td>1</td>\n",
       "    </tr>\n",
       "    <tr>\n",
       "      <th>2</th>\n",
       "      <td>27835</td>\n",
       "      <td>1</td>\n",
       "    </tr>\n",
       "    <tr>\n",
       "      <th>3</th>\n",
       "      <td>27836</td>\n",
       "      <td>2</td>\n",
       "    </tr>\n",
       "    <tr>\n",
       "      <th>4</th>\n",
       "      <td>27839</td>\n",
       "      <td>1</td>\n",
       "    </tr>\n",
       "    <tr>\n",
       "      <th>...</th>\n",
       "      <td>...</td>\n",
       "      <td>...</td>\n",
       "    </tr>\n",
       "    <tr>\n",
       "      <th>11847</th>\n",
       "      <td>47738</td>\n",
       "      <td>1</td>\n",
       "    </tr>\n",
       "    <tr>\n",
       "      <th>11848</th>\n",
       "      <td>47741</td>\n",
       "      <td>1</td>\n",
       "    </tr>\n",
       "    <tr>\n",
       "      <th>11849</th>\n",
       "      <td>47742</td>\n",
       "      <td>1</td>\n",
       "    </tr>\n",
       "    <tr>\n",
       "      <th>11850</th>\n",
       "      <td>47743</td>\n",
       "      <td>1</td>\n",
       "    </tr>\n",
       "    <tr>\n",
       "      <th>11851</th>\n",
       "      <td>47744</td>\n",
       "      <td>1</td>\n",
       "    </tr>\n",
       "  </tbody>\n",
       "</table>\n",
       "<p>11852 rows × 2 columns</p>\n",
       "</div>"
      ],
      "text/plain": [
       "       user_id  tutorial_id\n",
       "0        27833            1\n",
       "1        27834            1\n",
       "2        27835            1\n",
       "3        27836            2\n",
       "4        27839            1\n",
       "...        ...          ...\n",
       "11847    47738            1\n",
       "11848    47741            1\n",
       "11849    47742            1\n",
       "11850    47743            1\n",
       "11851    47744            1\n",
       "\n",
       "[11852 rows x 2 columns]"
      ]
     },
     "metadata": {},
     "output_type": "display_data"
    },
    {
     "data": {
      "text/plain": [
       "'Пользовтаетли, совершавшие покупку: '"
      ]
     },
     "metadata": {},
     "output_type": "display_data"
    },
    {
     "data": {
      "text/html": [
       "<div>\n",
       "<style scoped>\n",
       "    .dataframe tbody tr th:only-of-type {\n",
       "        vertical-align: middle;\n",
       "    }\n",
       "\n",
       "    .dataframe tbody tr th {\n",
       "        vertical-align: top;\n",
       "    }\n",
       "\n",
       "    .dataframe thead th {\n",
       "        text-align: right;\n",
       "    }\n",
       "</style>\n",
       "<table border=\"1\" class=\"dataframe\">\n",
       "  <thead>\n",
       "    <tr style=\"text-align: right;\">\n",
       "      <th></th>\n",
       "      <th>user_id</th>\n",
       "      <th>event_type</th>\n",
       "    </tr>\n",
       "  </thead>\n",
       "  <tbody>\n",
       "    <tr>\n",
       "      <th>0</th>\n",
       "      <td>27845</td>\n",
       "      <td>1</td>\n",
       "    </tr>\n",
       "    <tr>\n",
       "      <th>1</th>\n",
       "      <td>27865</td>\n",
       "      <td>1</td>\n",
       "    </tr>\n",
       "    <tr>\n",
       "      <th>2</th>\n",
       "      <td>27884</td>\n",
       "      <td>1</td>\n",
       "    </tr>\n",
       "    <tr>\n",
       "      <th>3</th>\n",
       "      <td>27910</td>\n",
       "      <td>1</td>\n",
       "    </tr>\n",
       "    <tr>\n",
       "      <th>4</th>\n",
       "      <td>27911</td>\n",
       "      <td>1</td>\n",
       "    </tr>\n",
       "    <tr>\n",
       "      <th>...</th>\n",
       "      <td>...</td>\n",
       "      <td>...</td>\n",
       "    </tr>\n",
       "    <tr>\n",
       "      <th>1595</th>\n",
       "      <td>47671</td>\n",
       "      <td>1</td>\n",
       "    </tr>\n",
       "    <tr>\n",
       "      <th>1596</th>\n",
       "      <td>47687</td>\n",
       "      <td>1</td>\n",
       "    </tr>\n",
       "    <tr>\n",
       "      <th>1597</th>\n",
       "      <td>47712</td>\n",
       "      <td>1</td>\n",
       "    </tr>\n",
       "    <tr>\n",
       "      <th>1598</th>\n",
       "      <td>47732</td>\n",
       "      <td>1</td>\n",
       "    </tr>\n",
       "    <tr>\n",
       "      <th>1599</th>\n",
       "      <td>47742</td>\n",
       "      <td>1</td>\n",
       "    </tr>\n",
       "  </tbody>\n",
       "</table>\n",
       "<p>1600 rows × 2 columns</p>\n",
       "</div>"
      ],
      "text/plain": [
       "      user_id  event_type\n",
       "0       27845           1\n",
       "1       27865           1\n",
       "2       27884           1\n",
       "3       27910           1\n",
       "4       27911           1\n",
       "...       ...         ...\n",
       "1595    47671           1\n",
       "1596    47687           1\n",
       "1597    47712           1\n",
       "1598    47732           1\n",
       "1599    47742           1\n",
       "\n",
       "[1600 rows x 2 columns]"
      ]
     },
     "metadata": {},
     "output_type": "display_data"
    },
    {
     "data": {
      "text/plain": [
       "'Таблица данных о количестве  попыток обучения и покупке новых впросов: '"
      ]
     },
     "metadata": {},
     "output_type": "display_data"
    },
    {
     "data": {
      "text/html": [
       "<div>\n",
       "<style scoped>\n",
       "    .dataframe tbody tr th:only-of-type {\n",
       "        vertical-align: middle;\n",
       "    }\n",
       "\n",
       "    .dataframe tbody tr th {\n",
       "        vertical-align: top;\n",
       "    }\n",
       "\n",
       "    .dataframe thead th {\n",
       "        text-align: right;\n",
       "    }\n",
       "</style>\n",
       "<table border=\"1\" class=\"dataframe\">\n",
       "  <thead>\n",
       "    <tr style=\"text-align: right;\">\n",
       "      <th></th>\n",
       "      <th>user_id</th>\n",
       "      <th>tutorial_attempt</th>\n",
       "      <th>purchase</th>\n",
       "    </tr>\n",
       "  </thead>\n",
       "  <tbody>\n",
       "    <tr>\n",
       "      <th>0</th>\n",
       "      <td>27833</td>\n",
       "      <td>1</td>\n",
       "      <td>0.0</td>\n",
       "    </tr>\n",
       "    <tr>\n",
       "      <th>1</th>\n",
       "      <td>27834</td>\n",
       "      <td>1</td>\n",
       "      <td>0.0</td>\n",
       "    </tr>\n",
       "    <tr>\n",
       "      <th>2</th>\n",
       "      <td>27835</td>\n",
       "      <td>1</td>\n",
       "      <td>0.0</td>\n",
       "    </tr>\n",
       "    <tr>\n",
       "      <th>3</th>\n",
       "      <td>27836</td>\n",
       "      <td>2</td>\n",
       "      <td>0.0</td>\n",
       "    </tr>\n",
       "    <tr>\n",
       "      <th>4</th>\n",
       "      <td>27839</td>\n",
       "      <td>1</td>\n",
       "      <td>0.0</td>\n",
       "    </tr>\n",
       "    <tr>\n",
       "      <th>...</th>\n",
       "      <td>...</td>\n",
       "      <td>...</td>\n",
       "      <td>...</td>\n",
       "    </tr>\n",
       "    <tr>\n",
       "      <th>11847</th>\n",
       "      <td>47738</td>\n",
       "      <td>1</td>\n",
       "      <td>0.0</td>\n",
       "    </tr>\n",
       "    <tr>\n",
       "      <th>11848</th>\n",
       "      <td>47741</td>\n",
       "      <td>1</td>\n",
       "      <td>0.0</td>\n",
       "    </tr>\n",
       "    <tr>\n",
       "      <th>11849</th>\n",
       "      <td>47742</td>\n",
       "      <td>1</td>\n",
       "      <td>1.0</td>\n",
       "    </tr>\n",
       "    <tr>\n",
       "      <th>11850</th>\n",
       "      <td>47743</td>\n",
       "      <td>1</td>\n",
       "      <td>0.0</td>\n",
       "    </tr>\n",
       "    <tr>\n",
       "      <th>11851</th>\n",
       "      <td>47744</td>\n",
       "      <td>1</td>\n",
       "      <td>0.0</td>\n",
       "    </tr>\n",
       "  </tbody>\n",
       "</table>\n",
       "<p>11852 rows × 3 columns</p>\n",
       "</div>"
      ],
      "text/plain": [
       "       user_id  tutorial_attempt  purchase\n",
       "0        27833                 1       0.0\n",
       "1        27834                 1       0.0\n",
       "2        27835                 1       0.0\n",
       "3        27836                 2       0.0\n",
       "4        27839                 1       0.0\n",
       "...        ...               ...       ...\n",
       "11847    47738                 1       0.0\n",
       "11848    47741                 1       0.0\n",
       "11849    47742                 1       1.0\n",
       "11850    47743                 1       0.0\n",
       "11851    47744                 1       0.0\n",
       "\n",
       "[11852 rows x 3 columns]"
      ]
     },
     "metadata": {},
     "output_type": "display_data"
    },
    {
     "data": {
      "text/plain": [
       "'Таблица с данными о попытках обучения каждого пользователя, покупках и суммах, потраченных на вопросы:'"
      ]
     },
     "metadata": {},
     "output_type": "display_data"
    },
    {
     "data": {
      "text/html": [
       "<div>\n",
       "<style scoped>\n",
       "    .dataframe tbody tr th:only-of-type {\n",
       "        vertical-align: middle;\n",
       "    }\n",
       "\n",
       "    .dataframe tbody tr th {\n",
       "        vertical-align: top;\n",
       "    }\n",
       "\n",
       "    .dataframe thead th {\n",
       "        text-align: right;\n",
       "    }\n",
       "</style>\n",
       "<table border=\"1\" class=\"dataframe\">\n",
       "  <thead>\n",
       "    <tr style=\"text-align: right;\">\n",
       "      <th></th>\n",
       "      <th>user_id</th>\n",
       "      <th>tutorial_attempt</th>\n",
       "      <th>purchase</th>\n",
       "      <th>amount</th>\n",
       "    </tr>\n",
       "  </thead>\n",
       "  <tbody>\n",
       "    <tr>\n",
       "      <th>0</th>\n",
       "      <td>27833</td>\n",
       "      <td>1</td>\n",
       "      <td>0.0</td>\n",
       "      <td>NaN</td>\n",
       "    </tr>\n",
       "    <tr>\n",
       "      <th>1</th>\n",
       "      <td>27834</td>\n",
       "      <td>1</td>\n",
       "      <td>0.0</td>\n",
       "      <td>NaN</td>\n",
       "    </tr>\n",
       "    <tr>\n",
       "      <th>2</th>\n",
       "      <td>27835</td>\n",
       "      <td>1</td>\n",
       "      <td>0.0</td>\n",
       "      <td>NaN</td>\n",
       "    </tr>\n",
       "    <tr>\n",
       "      <th>3</th>\n",
       "      <td>27836</td>\n",
       "      <td>2</td>\n",
       "      <td>0.0</td>\n",
       "      <td>NaN</td>\n",
       "    </tr>\n",
       "    <tr>\n",
       "      <th>4</th>\n",
       "      <td>27839</td>\n",
       "      <td>1</td>\n",
       "      <td>0.0</td>\n",
       "      <td>NaN</td>\n",
       "    </tr>\n",
       "    <tr>\n",
       "      <th>...</th>\n",
       "      <td>...</td>\n",
       "      <td>...</td>\n",
       "      <td>...</td>\n",
       "      <td>...</td>\n",
       "    </tr>\n",
       "    <tr>\n",
       "      <th>11847</th>\n",
       "      <td>47738</td>\n",
       "      <td>1</td>\n",
       "      <td>0.0</td>\n",
       "      <td>NaN</td>\n",
       "    </tr>\n",
       "    <tr>\n",
       "      <th>11848</th>\n",
       "      <td>47741</td>\n",
       "      <td>1</td>\n",
       "      <td>0.0</td>\n",
       "      <td>NaN</td>\n",
       "    </tr>\n",
       "    <tr>\n",
       "      <th>11849</th>\n",
       "      <td>47742</td>\n",
       "      <td>1</td>\n",
       "      <td>1.0</td>\n",
       "      <td>50.0</td>\n",
       "    </tr>\n",
       "    <tr>\n",
       "      <th>11850</th>\n",
       "      <td>47743</td>\n",
       "      <td>1</td>\n",
       "      <td>0.0</td>\n",
       "      <td>NaN</td>\n",
       "    </tr>\n",
       "    <tr>\n",
       "      <th>11851</th>\n",
       "      <td>47744</td>\n",
       "      <td>1</td>\n",
       "      <td>0.0</td>\n",
       "      <td>NaN</td>\n",
       "    </tr>\n",
       "  </tbody>\n",
       "</table>\n",
       "<p>11852 rows × 4 columns</p>\n",
       "</div>"
      ],
      "text/plain": [
       "       user_id  tutorial_attempt  purchase  amount\n",
       "0        27833                 1       0.0     NaN\n",
       "1        27834                 1       0.0     NaN\n",
       "2        27835                 1       0.0     NaN\n",
       "3        27836                 2       0.0     NaN\n",
       "4        27839                 1       0.0     NaN\n",
       "...        ...               ...       ...     ...\n",
       "11847    47738                 1       0.0     NaN\n",
       "11848    47741                 1       0.0     NaN\n",
       "11849    47742                 1       1.0    50.0\n",
       "11850    47743                 1       0.0     NaN\n",
       "11851    47744                 1       0.0     NaN\n",
       "\n",
       "[11852 rows x 4 columns]"
      ]
     },
     "metadata": {},
     "output_type": "display_data"
    },
    {
     "data": {
      "text/plain": [
       "'Группы пользователей, сгруппированных по количеству обучений:'"
      ]
     },
     "metadata": {},
     "output_type": "display_data"
    },
    {
     "data": {
      "text/html": [
       "<div>\n",
       "<style scoped>\n",
       "    .dataframe tbody tr th:only-of-type {\n",
       "        vertical-align: middle;\n",
       "    }\n",
       "\n",
       "    .dataframe tbody tr th {\n",
       "        vertical-align: top;\n",
       "    }\n",
       "\n",
       "    .dataframe thead th {\n",
       "        text-align: right;\n",
       "    }\n",
       "</style>\n",
       "<table border=\"1\" class=\"dataframe\">\n",
       "  <thead>\n",
       "    <tr style=\"text-align: right;\">\n",
       "      <th></th>\n",
       "      <th>tutorial_attempt</th>\n",
       "      <th>users</th>\n",
       "      <th>purchase_users</th>\n",
       "      <th>amount</th>\n",
       "    </tr>\n",
       "  </thead>\n",
       "  <tbody>\n",
       "    <tr>\n",
       "      <th>0</th>\n",
       "      <td>1</td>\n",
       "      <td>9097</td>\n",
       "      <td>1207.0</td>\n",
       "      <td>132475.0</td>\n",
       "    </tr>\n",
       "    <tr>\n",
       "      <th>1</th>\n",
       "      <td>2</td>\n",
       "      <td>1589</td>\n",
       "      <td>218.0</td>\n",
       "      <td>24950.0</td>\n",
       "    </tr>\n",
       "    <tr>\n",
       "      <th>2</th>\n",
       "      <td>3</td>\n",
       "      <td>427</td>\n",
       "      <td>51.0</td>\n",
       "      <td>5675.0</td>\n",
       "    </tr>\n",
       "    <tr>\n",
       "      <th>3</th>\n",
       "      <td>4</td>\n",
       "      <td>221</td>\n",
       "      <td>30.0</td>\n",
       "      <td>2950.0</td>\n",
       "    </tr>\n",
       "    <tr>\n",
       "      <th>4</th>\n",
       "      <td>5</td>\n",
       "      <td>109</td>\n",
       "      <td>16.0</td>\n",
       "      <td>1950.0</td>\n",
       "    </tr>\n",
       "    <tr>\n",
       "      <th>5</th>\n",
       "      <td>6</td>\n",
       "      <td>116</td>\n",
       "      <td>14.0</td>\n",
       "      <td>1675.0</td>\n",
       "    </tr>\n",
       "    <tr>\n",
       "      <th>6</th>\n",
       "      <td>7</td>\n",
       "      <td>94</td>\n",
       "      <td>12.0</td>\n",
       "      <td>1325.0</td>\n",
       "    </tr>\n",
       "    <tr>\n",
       "      <th>7</th>\n",
       "      <td>8</td>\n",
       "      <td>86</td>\n",
       "      <td>13.0</td>\n",
       "      <td>1350.0</td>\n",
       "    </tr>\n",
       "    <tr>\n",
       "      <th>8</th>\n",
       "      <td>9</td>\n",
       "      <td>113</td>\n",
       "      <td>17.0</td>\n",
       "      <td>2000.0</td>\n",
       "    </tr>\n",
       "  </tbody>\n",
       "</table>\n",
       "</div>"
      ],
      "text/plain": [
       "   tutorial_attempt  users  purchase_users    amount\n",
       "0                 1   9097          1207.0  132475.0\n",
       "1                 2   1589           218.0   24950.0\n",
       "2                 3    427            51.0    5675.0\n",
       "3                 4    221            30.0    2950.0\n",
       "4                 5    109            16.0    1950.0\n",
       "5                 6    116            14.0    1675.0\n",
       "6                 7     94            12.0    1325.0\n",
       "7                 8     86            13.0    1350.0\n",
       "8                 9    113            17.0    2000.0"
      ]
     },
     "metadata": {},
     "output_type": "display_data"
    },
    {
     "data": {
      "text/plain": [
       "'Коэффициент конверсии по группам в зависимости от количества обучения: '"
      ]
     },
     "metadata": {},
     "output_type": "display_data"
    },
    {
     "data": {
      "text/html": [
       "<div>\n",
       "<style scoped>\n",
       "    .dataframe tbody tr th:only-of-type {\n",
       "        vertical-align: middle;\n",
       "    }\n",
       "\n",
       "    .dataframe tbody tr th {\n",
       "        vertical-align: top;\n",
       "    }\n",
       "\n",
       "    .dataframe thead th {\n",
       "        text-align: right;\n",
       "    }\n",
       "</style>\n",
       "<table border=\"1\" class=\"dataframe\">\n",
       "  <thead>\n",
       "    <tr style=\"text-align: right;\">\n",
       "      <th></th>\n",
       "      <th>tutorial_attempt</th>\n",
       "      <th>users</th>\n",
       "      <th>purchase_users</th>\n",
       "      <th>amount</th>\n",
       "      <th>conversion_rate</th>\n",
       "    </tr>\n",
       "  </thead>\n",
       "  <tbody>\n",
       "    <tr>\n",
       "      <th>0</th>\n",
       "      <td>1</td>\n",
       "      <td>9097</td>\n",
       "      <td>1207.0</td>\n",
       "      <td>132475.0</td>\n",
       "      <td>13.27</td>\n",
       "    </tr>\n",
       "    <tr>\n",
       "      <th>1</th>\n",
       "      <td>2</td>\n",
       "      <td>1589</td>\n",
       "      <td>218.0</td>\n",
       "      <td>24950.0</td>\n",
       "      <td>13.72</td>\n",
       "    </tr>\n",
       "    <tr>\n",
       "      <th>2</th>\n",
       "      <td>3</td>\n",
       "      <td>427</td>\n",
       "      <td>51.0</td>\n",
       "      <td>5675.0</td>\n",
       "      <td>11.94</td>\n",
       "    </tr>\n",
       "    <tr>\n",
       "      <th>3</th>\n",
       "      <td>4</td>\n",
       "      <td>221</td>\n",
       "      <td>30.0</td>\n",
       "      <td>2950.0</td>\n",
       "      <td>13.57</td>\n",
       "    </tr>\n",
       "    <tr>\n",
       "      <th>4</th>\n",
       "      <td>5</td>\n",
       "      <td>109</td>\n",
       "      <td>16.0</td>\n",
       "      <td>1950.0</td>\n",
       "      <td>14.68</td>\n",
       "    </tr>\n",
       "    <tr>\n",
       "      <th>5</th>\n",
       "      <td>6</td>\n",
       "      <td>116</td>\n",
       "      <td>14.0</td>\n",
       "      <td>1675.0</td>\n",
       "      <td>12.07</td>\n",
       "    </tr>\n",
       "    <tr>\n",
       "      <th>6</th>\n",
       "      <td>7</td>\n",
       "      <td>94</td>\n",
       "      <td>12.0</td>\n",
       "      <td>1325.0</td>\n",
       "      <td>12.77</td>\n",
       "    </tr>\n",
       "    <tr>\n",
       "      <th>7</th>\n",
       "      <td>8</td>\n",
       "      <td>86</td>\n",
       "      <td>13.0</td>\n",
       "      <td>1350.0</td>\n",
       "      <td>15.12</td>\n",
       "    </tr>\n",
       "    <tr>\n",
       "      <th>8</th>\n",
       "      <td>9</td>\n",
       "      <td>113</td>\n",
       "      <td>17.0</td>\n",
       "      <td>2000.0</td>\n",
       "      <td>15.04</td>\n",
       "    </tr>\n",
       "  </tbody>\n",
       "</table>\n",
       "</div>"
      ],
      "text/plain": [
       "   tutorial_attempt  users  purchase_users    amount  conversion_rate\n",
       "0                 1   9097          1207.0  132475.0            13.27\n",
       "1                 2   1589           218.0   24950.0            13.72\n",
       "2                 3    427            51.0    5675.0            11.94\n",
       "3                 4    221            30.0    2950.0            13.57\n",
       "4                 5    109            16.0    1950.0            14.68\n",
       "5                 6    116            14.0    1675.0            12.07\n",
       "6                 7     94            12.0    1325.0            12.77\n",
       "7                 8     86            13.0    1350.0            15.12\n",
       "8                 9    113            17.0    2000.0            15.04"
      ]
     },
     "metadata": {},
     "output_type": "display_data"
    },
    {
     "data": {
      "text/plain": [
       "'Выручка на покупателя в зависимости от количества обучения:'"
      ]
     },
     "metadata": {},
     "output_type": "display_data"
    },
    {
     "data": {
      "text/html": [
       "<div>\n",
       "<style scoped>\n",
       "    .dataframe tbody tr th:only-of-type {\n",
       "        vertical-align: middle;\n",
       "    }\n",
       "\n",
       "    .dataframe tbody tr th {\n",
       "        vertical-align: top;\n",
       "    }\n",
       "\n",
       "    .dataframe thead th {\n",
       "        text-align: right;\n",
       "    }\n",
       "</style>\n",
       "<table border=\"1\" class=\"dataframe\">\n",
       "  <thead>\n",
       "    <tr style=\"text-align: right;\">\n",
       "      <th></th>\n",
       "      <th>tutorial_attempt</th>\n",
       "      <th>users</th>\n",
       "      <th>purchase_users</th>\n",
       "      <th>amount</th>\n",
       "      <th>conversion_rate</th>\n",
       "      <th>amount_per_user</th>\n",
       "    </tr>\n",
       "  </thead>\n",
       "  <tbody>\n",
       "    <tr>\n",
       "      <th>0</th>\n",
       "      <td>1</td>\n",
       "      <td>9097</td>\n",
       "      <td>1207.0</td>\n",
       "      <td>132475.0</td>\n",
       "      <td>13.27</td>\n",
       "      <td>14.56</td>\n",
       "    </tr>\n",
       "    <tr>\n",
       "      <th>1</th>\n",
       "      <td>2</td>\n",
       "      <td>1589</td>\n",
       "      <td>218.0</td>\n",
       "      <td>24950.0</td>\n",
       "      <td>13.72</td>\n",
       "      <td>15.70</td>\n",
       "    </tr>\n",
       "    <tr>\n",
       "      <th>2</th>\n",
       "      <td>3</td>\n",
       "      <td>427</td>\n",
       "      <td>51.0</td>\n",
       "      <td>5675.0</td>\n",
       "      <td>11.94</td>\n",
       "      <td>13.29</td>\n",
       "    </tr>\n",
       "    <tr>\n",
       "      <th>3</th>\n",
       "      <td>4</td>\n",
       "      <td>221</td>\n",
       "      <td>30.0</td>\n",
       "      <td>2950.0</td>\n",
       "      <td>13.57</td>\n",
       "      <td>13.35</td>\n",
       "    </tr>\n",
       "    <tr>\n",
       "      <th>4</th>\n",
       "      <td>5</td>\n",
       "      <td>109</td>\n",
       "      <td>16.0</td>\n",
       "      <td>1950.0</td>\n",
       "      <td>14.68</td>\n",
       "      <td>17.89</td>\n",
       "    </tr>\n",
       "    <tr>\n",
       "      <th>5</th>\n",
       "      <td>6</td>\n",
       "      <td>116</td>\n",
       "      <td>14.0</td>\n",
       "      <td>1675.0</td>\n",
       "      <td>12.07</td>\n",
       "      <td>14.44</td>\n",
       "    </tr>\n",
       "    <tr>\n",
       "      <th>6</th>\n",
       "      <td>7</td>\n",
       "      <td>94</td>\n",
       "      <td>12.0</td>\n",
       "      <td>1325.0</td>\n",
       "      <td>12.77</td>\n",
       "      <td>14.10</td>\n",
       "    </tr>\n",
       "    <tr>\n",
       "      <th>7</th>\n",
       "      <td>8</td>\n",
       "      <td>86</td>\n",
       "      <td>13.0</td>\n",
       "      <td>1350.0</td>\n",
       "      <td>15.12</td>\n",
       "      <td>15.70</td>\n",
       "    </tr>\n",
       "    <tr>\n",
       "      <th>8</th>\n",
       "      <td>9</td>\n",
       "      <td>113</td>\n",
       "      <td>17.0</td>\n",
       "      <td>2000.0</td>\n",
       "      <td>15.04</td>\n",
       "      <td>17.70</td>\n",
       "    </tr>\n",
       "  </tbody>\n",
       "</table>\n",
       "</div>"
      ],
      "text/plain": [
       "   tutorial_attempt  users  purchase_users    amount  conversion_rate  \\\n",
       "0                 1   9097          1207.0  132475.0            13.27   \n",
       "1                 2   1589           218.0   24950.0            13.72   \n",
       "2                 3    427            51.0    5675.0            11.94   \n",
       "3                 4    221            30.0    2950.0            13.57   \n",
       "4                 5    109            16.0    1950.0            14.68   \n",
       "5                 6    116            14.0    1675.0            12.07   \n",
       "6                 7     94            12.0    1325.0            12.77   \n",
       "7                 8     86            13.0    1350.0            15.12   \n",
       "8                 9    113            17.0    2000.0            15.04   \n",
       "\n",
       "   amount_per_user  \n",
       "0            14.56  \n",
       "1            15.70  \n",
       "2            13.29  \n",
       "3            13.35  \n",
       "4            17.89  \n",
       "5            14.44  \n",
       "6            14.10  \n",
       "7            15.70  \n",
       "8            17.70  "
      ]
     },
     "metadata": {},
     "output_type": "display_data"
    }
   ],
   "source": [
    "tutorial_st_mask = total_events_df[total_events_df['event_type'] == 'tutorial_start'] # фильтруем из исходной таблицы действий данные о тех, кто начинал обучение\n",
    "display(\"Количество строк в таблице : \", total_events_df['user_id'].nunique()) # контролируем правильность используемого источника данных\n",
    "\n",
    "pivot_att = tutorial_st_mask.pivot_table( # строим сводную таблицу по количеству раз для пользователей, успешно прошедших обучение (завершивших его) \n",
    "    index='user_id', \n",
    "    values='tutorial_id',\n",
    "    aggfunc='count'\n",
    ").reset_index()\n",
    "display(\"Количество попыток обучения, совершаемых пользователями (для каждого пользователя):\", pivot_att)\n",
    "\n",
    "purchase_df_2018_mask = purchase_df_2018[purchase_df_2018['event_type'] == 'purchase'] # фильтруем из исходной таблицы покупок данные о действиях пользователей (по признаку покупки)\n",
    "pivot_psh = purchase_df_2018_mask.pivot_table( # строим сводную таблицу по факту покупок для каждого пользователя\n",
    "    index='user_id',\n",
    "    values='event_type',\n",
    "    aggfunc='count'\n",
    "  ).reset_index()\n",
    "display(\"Пользовтаетли, совершавшие покупку: \", pivot_psh)\n",
    "\n",
    "tut_att_prs_df = pivot_att.merge(pivot_psh, how='left', on='user_id').fillna(0) # объединим полученные сводные таблицы и перезапишем пустые значения на 0\n",
    "tut_att_prs_df = tut_att_prs_df.rename(columns={'tutorial_id':'tutorial_attempt', 'event_type':'purchase'}) # новой таблице переименуем столбцы \n",
    "display(\"Таблица данных о количестве  попыток обучения и покупке новых впросов: \", tut_att_prs_df)\n",
    "\n",
    "tut_attempt_df_p = tut_att_prs_df.merge(purchase_df_2018, how='left', on='user_id').drop(['purchase_id', 'start_time', 'event_type'], axis=1) # добавим в таблицу данные о сумме покупок \n",
    "#через объединение сводной объединенной таблицы с исходной таблицей покупок в 2018 году.\n",
    "display(\"Таблица с данными о попытках обучения каждого пользователя, покупках и суммах, потраченных на вопросы:\", tut_attempt_df_p)\n",
    "\n",
    "# Построим таблицу, группирующую всех пользователей по количеству попыток обучения, переименовав имеющиеся столбцы\n",
    "grupped_df = tut_attempt_df_p.groupby('tutorial_attempt').agg(\n",
    "  users=pd.NamedAgg(column='user_id', aggfunc='count'),\n",
    "  purchase_users=pd.NamedAgg(column='purchase', aggfunc='sum'),\n",
    "  amount=pd.NamedAgg(column='amount',aggfunc='sum')\n",
    "  ).reset_index()\n",
    "\n",
    "display(\"Группы пользователей, сгруппированных по количеству обучений:\", grupped_df)\n",
    "\n",
    "grupped_df['conversion_rate'] = round((grupped_df['purchase_users'] / grupped_df['users'])*100,2) # добавим столбец \"conversion_rate\"\n",
    "display(\"Коэффициент конверсии по группам в зависимости от количества обучения: \", grupped_df)\n",
    "grupped_df['amount_per_user'] = round((grupped_df['amount'] / grupped_df['users']),2) # построим столбец, определяющий выручку на пользователя в зависимости от количества обучения\n",
    "display(\"Выручка на покупателя в зависимости от количества обучения:\", grupped_df)\n",
    "\n",
    "#not_tutorial_df = total_events_df[(total_events_df['event_type'] != 'tutorial_start') & (total_events_df['event_type'] == 'purchase')]\n",
    "#display(not_tutorial_df.info())\n",
    "#display(not_tutorial_df['tutorial_id'].value_counts())"
   ]
  },
  {
   "cell_type": "code",
   "execution_count": 7,
   "metadata": {},
   "outputs": [
    {
     "data": {
      "application/vnd.plotly.v1+json": {
       "config": {
        "plotlyServerURL": "https://plot.ly"
       },
       "data": [
        {
         "alignmentgroup": "True",
         "hovertemplate": "tutorial_attempt=%{x}<br>conversion_rate=%{text}<extra></extra>",
         "legendgroup": "",
         "marker": {
          "color": "#636efa",
          "pattern": {
           "shape": ""
          }
         },
         "name": "",
         "offsetgroup": "",
         "orientation": "v",
         "showlegend": false,
         "text": [
          13.27,
          13.72,
          11.94,
          13.57,
          14.68,
          12.07,
          12.77,
          15.12,
          15.04
         ],
         "textposition": "auto",
         "type": "bar",
         "x": [
          1,
          2,
          3,
          4,
          5,
          6,
          7,
          8,
          9
         ],
         "xaxis": "x",
         "y": [
          13.27,
          13.72,
          11.94,
          13.57,
          14.68,
          12.07,
          12.77,
          15.12,
          15.04
         ],
         "yaxis": "y"
        }
       ],
       "layout": {
        "barmode": "relative",
        "height": 500,
        "legend": {
         "tracegroupgap": 0
        },
        "template": {
         "data": {
          "bar": [
           {
            "error_x": {
             "color": "#2a3f5f"
            },
            "error_y": {
             "color": "#2a3f5f"
            },
            "marker": {
             "line": {
              "color": "#E5ECF6",
              "width": 0.5
             },
             "pattern": {
              "fillmode": "overlay",
              "size": 10,
              "solidity": 0.2
             }
            },
            "type": "bar"
           }
          ],
          "barpolar": [
           {
            "marker": {
             "line": {
              "color": "#E5ECF6",
              "width": 0.5
             },
             "pattern": {
              "fillmode": "overlay",
              "size": 10,
              "solidity": 0.2
             }
            },
            "type": "barpolar"
           }
          ],
          "carpet": [
           {
            "aaxis": {
             "endlinecolor": "#2a3f5f",
             "gridcolor": "white",
             "linecolor": "white",
             "minorgridcolor": "white",
             "startlinecolor": "#2a3f5f"
            },
            "baxis": {
             "endlinecolor": "#2a3f5f",
             "gridcolor": "white",
             "linecolor": "white",
             "minorgridcolor": "white",
             "startlinecolor": "#2a3f5f"
            },
            "type": "carpet"
           }
          ],
          "choropleth": [
           {
            "colorbar": {
             "outlinewidth": 0,
             "ticks": ""
            },
            "type": "choropleth"
           }
          ],
          "contour": [
           {
            "colorbar": {
             "outlinewidth": 0,
             "ticks": ""
            },
            "colorscale": [
             [
              0,
              "#0d0887"
             ],
             [
              0.1111111111111111,
              "#46039f"
             ],
             [
              0.2222222222222222,
              "#7201a8"
             ],
             [
              0.3333333333333333,
              "#9c179e"
             ],
             [
              0.4444444444444444,
              "#bd3786"
             ],
             [
              0.5555555555555556,
              "#d8576b"
             ],
             [
              0.6666666666666666,
              "#ed7953"
             ],
             [
              0.7777777777777778,
              "#fb9f3a"
             ],
             [
              0.8888888888888888,
              "#fdca26"
             ],
             [
              1,
              "#f0f921"
             ]
            ],
            "type": "contour"
           }
          ],
          "contourcarpet": [
           {
            "colorbar": {
             "outlinewidth": 0,
             "ticks": ""
            },
            "type": "contourcarpet"
           }
          ],
          "heatmap": [
           {
            "colorbar": {
             "outlinewidth": 0,
             "ticks": ""
            },
            "colorscale": [
             [
              0,
              "#0d0887"
             ],
             [
              0.1111111111111111,
              "#46039f"
             ],
             [
              0.2222222222222222,
              "#7201a8"
             ],
             [
              0.3333333333333333,
              "#9c179e"
             ],
             [
              0.4444444444444444,
              "#bd3786"
             ],
             [
              0.5555555555555556,
              "#d8576b"
             ],
             [
              0.6666666666666666,
              "#ed7953"
             ],
             [
              0.7777777777777778,
              "#fb9f3a"
             ],
             [
              0.8888888888888888,
              "#fdca26"
             ],
             [
              1,
              "#f0f921"
             ]
            ],
            "type": "heatmap"
           }
          ],
          "heatmapgl": [
           {
            "colorbar": {
             "outlinewidth": 0,
             "ticks": ""
            },
            "colorscale": [
             [
              0,
              "#0d0887"
             ],
             [
              0.1111111111111111,
              "#46039f"
             ],
             [
              0.2222222222222222,
              "#7201a8"
             ],
             [
              0.3333333333333333,
              "#9c179e"
             ],
             [
              0.4444444444444444,
              "#bd3786"
             ],
             [
              0.5555555555555556,
              "#d8576b"
             ],
             [
              0.6666666666666666,
              "#ed7953"
             ],
             [
              0.7777777777777778,
              "#fb9f3a"
             ],
             [
              0.8888888888888888,
              "#fdca26"
             ],
             [
              1,
              "#f0f921"
             ]
            ],
            "type": "heatmapgl"
           }
          ],
          "histogram": [
           {
            "marker": {
             "pattern": {
              "fillmode": "overlay",
              "size": 10,
              "solidity": 0.2
             }
            },
            "type": "histogram"
           }
          ],
          "histogram2d": [
           {
            "colorbar": {
             "outlinewidth": 0,
             "ticks": ""
            },
            "colorscale": [
             [
              0,
              "#0d0887"
             ],
             [
              0.1111111111111111,
              "#46039f"
             ],
             [
              0.2222222222222222,
              "#7201a8"
             ],
             [
              0.3333333333333333,
              "#9c179e"
             ],
             [
              0.4444444444444444,
              "#bd3786"
             ],
             [
              0.5555555555555556,
              "#d8576b"
             ],
             [
              0.6666666666666666,
              "#ed7953"
             ],
             [
              0.7777777777777778,
              "#fb9f3a"
             ],
             [
              0.8888888888888888,
              "#fdca26"
             ],
             [
              1,
              "#f0f921"
             ]
            ],
            "type": "histogram2d"
           }
          ],
          "histogram2dcontour": [
           {
            "colorbar": {
             "outlinewidth": 0,
             "ticks": ""
            },
            "colorscale": [
             [
              0,
              "#0d0887"
             ],
             [
              0.1111111111111111,
              "#46039f"
             ],
             [
              0.2222222222222222,
              "#7201a8"
             ],
             [
              0.3333333333333333,
              "#9c179e"
             ],
             [
              0.4444444444444444,
              "#bd3786"
             ],
             [
              0.5555555555555556,
              "#d8576b"
             ],
             [
              0.6666666666666666,
              "#ed7953"
             ],
             [
              0.7777777777777778,
              "#fb9f3a"
             ],
             [
              0.8888888888888888,
              "#fdca26"
             ],
             [
              1,
              "#f0f921"
             ]
            ],
            "type": "histogram2dcontour"
           }
          ],
          "mesh3d": [
           {
            "colorbar": {
             "outlinewidth": 0,
             "ticks": ""
            },
            "type": "mesh3d"
           }
          ],
          "parcoords": [
           {
            "line": {
             "colorbar": {
              "outlinewidth": 0,
              "ticks": ""
             }
            },
            "type": "parcoords"
           }
          ],
          "pie": [
           {
            "automargin": true,
            "type": "pie"
           }
          ],
          "scatter": [
           {
            "fillpattern": {
             "fillmode": "overlay",
             "size": 10,
             "solidity": 0.2
            },
            "type": "scatter"
           }
          ],
          "scatter3d": [
           {
            "line": {
             "colorbar": {
              "outlinewidth": 0,
              "ticks": ""
             }
            },
            "marker": {
             "colorbar": {
              "outlinewidth": 0,
              "ticks": ""
             }
            },
            "type": "scatter3d"
           }
          ],
          "scattercarpet": [
           {
            "marker": {
             "colorbar": {
              "outlinewidth": 0,
              "ticks": ""
             }
            },
            "type": "scattercarpet"
           }
          ],
          "scattergeo": [
           {
            "marker": {
             "colorbar": {
              "outlinewidth": 0,
              "ticks": ""
             }
            },
            "type": "scattergeo"
           }
          ],
          "scattergl": [
           {
            "marker": {
             "colorbar": {
              "outlinewidth": 0,
              "ticks": ""
             }
            },
            "type": "scattergl"
           }
          ],
          "scattermapbox": [
           {
            "marker": {
             "colorbar": {
              "outlinewidth": 0,
              "ticks": ""
             }
            },
            "type": "scattermapbox"
           }
          ],
          "scatterpolar": [
           {
            "marker": {
             "colorbar": {
              "outlinewidth": 0,
              "ticks": ""
             }
            },
            "type": "scatterpolar"
           }
          ],
          "scatterpolargl": [
           {
            "marker": {
             "colorbar": {
              "outlinewidth": 0,
              "ticks": ""
             }
            },
            "type": "scatterpolargl"
           }
          ],
          "scatterternary": [
           {
            "marker": {
             "colorbar": {
              "outlinewidth": 0,
              "ticks": ""
             }
            },
            "type": "scatterternary"
           }
          ],
          "surface": [
           {
            "colorbar": {
             "outlinewidth": 0,
             "ticks": ""
            },
            "colorscale": [
             [
              0,
              "#0d0887"
             ],
             [
              0.1111111111111111,
              "#46039f"
             ],
             [
              0.2222222222222222,
              "#7201a8"
             ],
             [
              0.3333333333333333,
              "#9c179e"
             ],
             [
              0.4444444444444444,
              "#bd3786"
             ],
             [
              0.5555555555555556,
              "#d8576b"
             ],
             [
              0.6666666666666666,
              "#ed7953"
             ],
             [
              0.7777777777777778,
              "#fb9f3a"
             ],
             [
              0.8888888888888888,
              "#fdca26"
             ],
             [
              1,
              "#f0f921"
             ]
            ],
            "type": "surface"
           }
          ],
          "table": [
           {
            "cells": {
             "fill": {
              "color": "#EBF0F8"
             },
             "line": {
              "color": "white"
             }
            },
            "header": {
             "fill": {
              "color": "#C8D4E3"
             },
             "line": {
              "color": "white"
             }
            },
            "type": "table"
           }
          ]
         },
         "layout": {
          "annotationdefaults": {
           "arrowcolor": "#2a3f5f",
           "arrowhead": 0,
           "arrowwidth": 1
          },
          "autotypenumbers": "strict",
          "coloraxis": {
           "colorbar": {
            "outlinewidth": 0,
            "ticks": ""
           }
          },
          "colorscale": {
           "diverging": [
            [
             0,
             "#8e0152"
            ],
            [
             0.1,
             "#c51b7d"
            ],
            [
             0.2,
             "#de77ae"
            ],
            [
             0.3,
             "#f1b6da"
            ],
            [
             0.4,
             "#fde0ef"
            ],
            [
             0.5,
             "#f7f7f7"
            ],
            [
             0.6,
             "#e6f5d0"
            ],
            [
             0.7,
             "#b8e186"
            ],
            [
             0.8,
             "#7fbc41"
            ],
            [
             0.9,
             "#4d9221"
            ],
            [
             1,
             "#276419"
            ]
           ],
           "sequential": [
            [
             0,
             "#0d0887"
            ],
            [
             0.1111111111111111,
             "#46039f"
            ],
            [
             0.2222222222222222,
             "#7201a8"
            ],
            [
             0.3333333333333333,
             "#9c179e"
            ],
            [
             0.4444444444444444,
             "#bd3786"
            ],
            [
             0.5555555555555556,
             "#d8576b"
            ],
            [
             0.6666666666666666,
             "#ed7953"
            ],
            [
             0.7777777777777778,
             "#fb9f3a"
            ],
            [
             0.8888888888888888,
             "#fdca26"
            ],
            [
             1,
             "#f0f921"
            ]
           ],
           "sequentialminus": [
            [
             0,
             "#0d0887"
            ],
            [
             0.1111111111111111,
             "#46039f"
            ],
            [
             0.2222222222222222,
             "#7201a8"
            ],
            [
             0.3333333333333333,
             "#9c179e"
            ],
            [
             0.4444444444444444,
             "#bd3786"
            ],
            [
             0.5555555555555556,
             "#d8576b"
            ],
            [
             0.6666666666666666,
             "#ed7953"
            ],
            [
             0.7777777777777778,
             "#fb9f3a"
            ],
            [
             0.8888888888888888,
             "#fdca26"
            ],
            [
             1,
             "#f0f921"
            ]
           ]
          },
          "colorway": [
           "#636efa",
           "#EF553B",
           "#00cc96",
           "#ab63fa",
           "#FFA15A",
           "#19d3f3",
           "#FF6692",
           "#B6E880",
           "#FF97FF",
           "#FECB52"
          ],
          "font": {
           "color": "#2a3f5f"
          },
          "geo": {
           "bgcolor": "white",
           "lakecolor": "white",
           "landcolor": "#E5ECF6",
           "showlakes": true,
           "showland": true,
           "subunitcolor": "white"
          },
          "hoverlabel": {
           "align": "left"
          },
          "hovermode": "closest",
          "mapbox": {
           "style": "light"
          },
          "paper_bgcolor": "white",
          "plot_bgcolor": "#E5ECF6",
          "polar": {
           "angularaxis": {
            "gridcolor": "white",
            "linecolor": "white",
            "ticks": ""
           },
           "bgcolor": "#E5ECF6",
           "radialaxis": {
            "gridcolor": "white",
            "linecolor": "white",
            "ticks": ""
           }
          },
          "scene": {
           "xaxis": {
            "backgroundcolor": "#E5ECF6",
            "gridcolor": "white",
            "gridwidth": 2,
            "linecolor": "white",
            "showbackground": true,
            "ticks": "",
            "zerolinecolor": "white"
           },
           "yaxis": {
            "backgroundcolor": "#E5ECF6",
            "gridcolor": "white",
            "gridwidth": 2,
            "linecolor": "white",
            "showbackground": true,
            "ticks": "",
            "zerolinecolor": "white"
           },
           "zaxis": {
            "backgroundcolor": "#E5ECF6",
            "gridcolor": "white",
            "gridwidth": 2,
            "linecolor": "white",
            "showbackground": true,
            "ticks": "",
            "zerolinecolor": "white"
           }
          },
          "shapedefaults": {
           "line": {
            "color": "#2a3f5f"
           }
          },
          "ternary": {
           "aaxis": {
            "gridcolor": "white",
            "linecolor": "white",
            "ticks": ""
           },
           "baxis": {
            "gridcolor": "white",
            "linecolor": "white",
            "ticks": ""
           },
           "bgcolor": "#E5ECF6",
           "caxis": {
            "gridcolor": "white",
            "linecolor": "white",
            "ticks": ""
           }
          },
          "title": {
           "x": 0.05
          },
          "xaxis": {
           "automargin": true,
           "gridcolor": "white",
           "linecolor": "white",
           "ticks": "",
           "title": {
            "standoff": 15
           },
           "zerolinecolor": "white",
           "zerolinewidth": 2
          },
          "yaxis": {
           "automargin": true,
           "gridcolor": "white",
           "linecolor": "white",
           "ticks": "",
           "title": {
            "standoff": 15
           },
           "zerolinecolor": "white",
           "zerolinewidth": 2
          }
         }
        },
        "title": {
         "text": "Коэффициент конверсии пользователей в клиентов по группам (% от пользователей)"
        },
        "width": 1000,
        "xaxis": {
         "anchor": "y",
         "domain": [
          0,
          1
         ],
         "title": {
          "text": "tutorial_attempt"
         }
        },
        "yaxis": {
         "anchor": "x",
         "domain": [
          0,
          1
         ],
         "title": {
          "text": "conversion_rate"
         }
        }
       }
      }
     },
     "metadata": {},
     "output_type": "display_data"
    }
   ],
   "source": [
    "import plotly\n",
    "import plotly.express as px\n",
    "fig_1 = px.bar(\n",
    "    data_frame=grupped_df,\n",
    "    x='tutorial_attempt',\n",
    "    y='conversion_rate',\n",
    "    text='conversion_rate',\n",
    "    orientation='v',\n",
    "    height=500, #высота\n",
    "    width=1000, #ширина\n",
    "    title= \"Коэффициент конверсии пользователей в клиентов по группам (% от пользователей)\"\n",
    ")\n",
    "display(fig_1)"
   ]
  },
  {
   "attachments": {},
   "cell_type": "markdown",
   "metadata": {},
   "source": [
    "На диаграмме видно, что во всех группах коэффициент конверсии находится в диапазоне 12-15%. Прямой или обратной зависимости данного показателя от количества обучений у пользователя нет. "
   ]
  },
  {
   "cell_type": "code",
   "execution_count": 8,
   "metadata": {},
   "outputs": [
    {
     "data": {
      "image/png": "[encoded data removed]",
      "text/plain": [
       "<Figure size 1000x500 with 1 Axes>"
      ]
     },
     "metadata": {},
     "output_type": "display_data"
    }
   ],
   "source": [
    "import seaborn as sns\n",
    "\n",
    "fig1 = plt.figure(figsize=(10, 5))\n",
    "barplot = sns.barplot(\n",
    "    data=grupped_df,\n",
    "    x='tutorial_attempt', # по умолчанию считает среднее по параметру столбца\n",
    "    y='amount_per_user',\n",
    "    color='blue'\n",
    ")\n",
    "barplot.set_title('Выручка на пользователя в группах прошедших обучение от 1 до 9 раз');\n"
   ]
  },
  {
   "attachments": {},
   "cell_type": "markdown",
   "metadata": {},
   "source": [
    "Выручка на покупателя в группах имеет несущественные отличия. В частности в группе обцчавшихся 5 и 9 раз она выше прочих. Но влияет ли это на общую выручку? "
   ]
  },
  {
   "cell_type": "code",
   "execution_count": 9,
   "metadata": {},
   "outputs": [
    {
     "data": {
      "image/png": "[encoded data removed]",
      "text/plain": [
       "<Figure size 1000x500 with 1 Axes>"
      ]
     },
     "metadata": {},
     "output_type": "display_data"
    }
   ],
   "source": [
    "fig2 = plt.figure(figsize=(10, 5))\n",
    "barplot = sns.barplot(\n",
    "    data=grupped_df,\n",
    "    x='tutorial_attempt', # по умолчанию считает среднее по параметру столбца\n",
    "    y='amount',\n",
    "    color='blue'\n",
    ")\n",
    "barplot.set_title('Суммарная выручка в группах пользователей прошедших обучение от 1 до 9 раз');"
   ]
  },
  {
   "attachments": {},
   "cell_type": "markdown",
   "metadata": {},
   "source": [
    "Как видим, львиную долю выручки приносит группа, обучавшихся один раз - самая многочисленная из всех. \n",
    "\n",
    "Количество прохождения обучения не влияет на конверсию, так как во всех группах данный показатель практически одинаков. Не увеличивает количество обучения и выручку на пользователя, которая так же во всех группах примерно равна. Очевидно, что для принятия решения о покупке нового пакета вопросов пользователям достаточно успешно пройти обучение всего лишь один раз, как и поступает большинство пользователей. Они же и генерируют основную долю выручки. Таким образом, гипотезу о том, что на решение перейти к покупке влияет сам факт обучения, а не количество прохождений обучения пользователем, можно считать доказанной."
   ]
  },
  {
   "attachments": {},
   "cell_type": "markdown",
   "metadata": {},
   "source": [
    "## Задача 3\n",
    "\n",
    "Оценим прозрачность взаимодействия с игрой для пользователя, ответив на попрос: как часто пользователи начинают обучение после того как выбрали уровень сложности?"
   ]
  },
  {
   "attachments": {},
   "cell_type": "markdown",
   "metadata": {},
   "source": [
    " Для проверки гипотезы построим таблицы, позволяющие определить, насколько велика группа пользователей, которые переходили к началу обучения после выбора уровня сложности. Будем исходить при этом из того, что такое поведение отклоняется от стандартного и свидетельсвует о наличии сложностей в понимании игры у некоторой группы пользователей. \n",
    "Вернемся к сводным таблицам из блока решения Задачи 2"
   ]
  },
  {
   "cell_type": "code",
   "execution_count": 10,
   "metadata": {},
   "outputs": [
    {
     "data": {
      "text/plain": [
       "\"Построим и выведем сводную таблицу 'Тип действия' из исходной объединенной таблицы: \""
      ]
     },
     "metadata": {},
     "output_type": "display_data"
    },
    {
     "data": {
      "text/html": [
       "<div>\n",
       "<style scoped>\n",
       "    .dataframe tbody tr th:only-of-type {\n",
       "        vertical-align: middle;\n",
       "    }\n",
       "\n",
       "    .dataframe tbody tr th {\n",
       "        vertical-align: top;\n",
       "    }\n",
       "\n",
       "    .dataframe thead th {\n",
       "        text-align: right;\n",
       "    }\n",
       "</style>\n",
       "<table border=\"1\" class=\"dataframe\">\n",
       "  <thead>\n",
       "    <tr style=\"text-align: right;\">\n",
       "      <th>event_type</th>\n",
       "      <th>user_id</th>\n",
       "      <th>level_choice</th>\n",
       "      <th>pack_choice</th>\n",
       "      <th>purchase</th>\n",
       "      <th>registration</th>\n",
       "      <th>tutorial_finish</th>\n",
       "      <th>tutorial_start</th>\n",
       "    </tr>\n",
       "  </thead>\n",
       "  <tbody>\n",
       "    <tr>\n",
       "      <th>0</th>\n",
       "      <td>27832</td>\n",
       "      <td>NaT</td>\n",
       "      <td>NaT</td>\n",
       "      <td>NaT</td>\n",
       "      <td>2018-01-01 03:48:40</td>\n",
       "      <td>NaT</td>\n",
       "      <td>NaT</td>\n",
       "    </tr>\n",
       "    <tr>\n",
       "      <th>1</th>\n",
       "      <td>27833</td>\n",
       "      <td>NaT</td>\n",
       "      <td>NaT</td>\n",
       "      <td>NaT</td>\n",
       "      <td>2018-01-01 04:07:25</td>\n",
       "      <td>2018-01-01 17:50:08</td>\n",
       "      <td>2018-01-01 17:47:40</td>\n",
       "    </tr>\n",
       "    <tr>\n",
       "      <th>2</th>\n",
       "      <td>27834</td>\n",
       "      <td>NaT</td>\n",
       "      <td>NaT</td>\n",
       "      <td>NaT</td>\n",
       "      <td>2018-01-01 08:35:10</td>\n",
       "      <td>2018-01-01 19:48:01</td>\n",
       "      <td>2018-01-01 19:46:11</td>\n",
       "    </tr>\n",
       "    <tr>\n",
       "      <th>3</th>\n",
       "      <td>27835</td>\n",
       "      <td>2018-01-01 20:37:22</td>\n",
       "      <td>2018-01-01 20:38:43</td>\n",
       "      <td>NaT</td>\n",
       "      <td>2018-01-01 11:54:47</td>\n",
       "      <td>2018-01-01 15:06:15</td>\n",
       "      <td>2018-01-01 15:00:51</td>\n",
       "    </tr>\n",
       "    <tr>\n",
       "      <th>4</th>\n",
       "      <td>27836</td>\n",
       "      <td>NaT</td>\n",
       "      <td>NaT</td>\n",
       "      <td>NaT</td>\n",
       "      <td>2018-01-01 13:28:07</td>\n",
       "      <td>2018-01-01 15:42:58</td>\n",
       "      <td>2018-01-01 15:40:43</td>\n",
       "    </tr>\n",
       "    <tr>\n",
       "      <th>...</th>\n",
       "      <td>...</td>\n",
       "      <td>...</td>\n",
       "      <td>...</td>\n",
       "      <td>...</td>\n",
       "      <td>...</td>\n",
       "      <td>...</td>\n",
       "      <td>...</td>\n",
       "    </tr>\n",
       "    <tr>\n",
       "      <th>19909</th>\n",
       "      <td>47741</td>\n",
       "      <td>2018-12-31 02:01:26</td>\n",
       "      <td>2018-12-31 02:10:17</td>\n",
       "      <td>NaT</td>\n",
       "      <td>2018-12-30 20:41:06</td>\n",
       "      <td>2018-12-30 23:14:29</td>\n",
       "      <td>2018-12-30 23:12:42</td>\n",
       "    </tr>\n",
       "    <tr>\n",
       "      <th>19910</th>\n",
       "      <td>47742</td>\n",
       "      <td>2018-12-31 04:58:15</td>\n",
       "      <td>2018-12-31 05:06:10</td>\n",
       "      <td>2019-01-04 12:51:41</td>\n",
       "      <td>2018-12-30 20:48:42</td>\n",
       "      <td>2018-12-31 02:47:11</td>\n",
       "      <td>2018-12-31 02:43:26</td>\n",
       "    </tr>\n",
       "    <tr>\n",
       "      <th>19911</th>\n",
       "      <td>47743</td>\n",
       "      <td>2018-12-31 02:23:50</td>\n",
       "      <td>2018-12-31 02:26:29</td>\n",
       "      <td>NaT</td>\n",
       "      <td>2018-12-30 21:27:31</td>\n",
       "      <td>2018-12-31 01:35:14</td>\n",
       "      <td>2018-12-31 01:33:29</td>\n",
       "    </tr>\n",
       "    <tr>\n",
       "      <th>19912</th>\n",
       "      <td>47744</td>\n",
       "      <td>2018-12-31 07:53:04</td>\n",
       "      <td>2018-12-31 07:59:18</td>\n",
       "      <td>NaT</td>\n",
       "      <td>2018-12-30 22:12:24</td>\n",
       "      <td>2018-12-31 06:55:04</td>\n",
       "      <td>2018-12-31 06:51:17</td>\n",
       "    </tr>\n",
       "    <tr>\n",
       "      <th>19913</th>\n",
       "      <td>47745</td>\n",
       "      <td>NaT</td>\n",
       "      <td>NaT</td>\n",
       "      <td>NaT</td>\n",
       "      <td>2018-12-30 22:36:42</td>\n",
       "      <td>NaT</td>\n",
       "      <td>NaT</td>\n",
       "    </tr>\n",
       "  </tbody>\n",
       "</table>\n",
       "<p>19914 rows × 7 columns</p>\n",
       "</div>"
      ],
      "text/plain": [
       "event_type  user_id        level_choice         pack_choice  \\\n",
       "0             27832                 NaT                 NaT   \n",
       "1             27833                 NaT                 NaT   \n",
       "2             27834                 NaT                 NaT   \n",
       "3             27835 2018-01-01 20:37:22 2018-01-01 20:38:43   \n",
       "4             27836                 NaT                 NaT   \n",
       "...             ...                 ...                 ...   \n",
       "19909         47741 2018-12-31 02:01:26 2018-12-31 02:10:17   \n",
       "19910         47742 2018-12-31 04:58:15 2018-12-31 05:06:10   \n",
       "19911         47743 2018-12-31 02:23:50 2018-12-31 02:26:29   \n",
       "19912         47744 2018-12-31 07:53:04 2018-12-31 07:59:18   \n",
       "19913         47745                 NaT                 NaT   \n",
       "\n",
       "event_type            purchase        registration     tutorial_finish  \\\n",
       "0                          NaT 2018-01-01 03:48:40                 NaT   \n",
       "1                          NaT 2018-01-01 04:07:25 2018-01-01 17:50:08   \n",
       "2                          NaT 2018-01-01 08:35:10 2018-01-01 19:48:01   \n",
       "3                          NaT 2018-01-01 11:54:47 2018-01-01 15:06:15   \n",
       "4                          NaT 2018-01-01 13:28:07 2018-01-01 15:42:58   \n",
       "...                        ...                 ...                 ...   \n",
       "19909                      NaT 2018-12-30 20:41:06 2018-12-30 23:14:29   \n",
       "19910      2019-01-04 12:51:41 2018-12-30 20:48:42 2018-12-31 02:47:11   \n",
       "19911                      NaT 2018-12-30 21:27:31 2018-12-31 01:35:14   \n",
       "19912                      NaT 2018-12-30 22:12:24 2018-12-31 06:55:04   \n",
       "19913                      NaT 2018-12-30 22:36:42                 NaT   \n",
       "\n",
       "event_type      tutorial_start  \n",
       "0                          NaT  \n",
       "1          2018-01-01 17:47:40  \n",
       "2          2018-01-01 19:46:11  \n",
       "3          2018-01-01 15:00:51  \n",
       "4          2018-01-01 15:40:43  \n",
       "...                        ...  \n",
       "19909      2018-12-30 23:12:42  \n",
       "19910      2018-12-31 02:43:26  \n",
       "19911      2018-12-31 01:33:29  \n",
       "19912      2018-12-31 06:51:17  \n",
       "19913                      NaT  \n",
       "\n",
       "[19914 rows x 7 columns]"
      ]
     },
     "metadata": {},
     "output_type": "display_data"
    },
    {
     "data": {
      "text/plain": [
       "'Старт обучения пользователей: '"
      ]
     },
     "metadata": {},
     "output_type": "display_data"
    },
    {
     "data": {
      "text/html": [
       "<div>\n",
       "<style scoped>\n",
       "    .dataframe tbody tr th:only-of-type {\n",
       "        vertical-align: middle;\n",
       "    }\n",
       "\n",
       "    .dataframe tbody tr th {\n",
       "        vertical-align: top;\n",
       "    }\n",
       "\n",
       "    .dataframe thead th {\n",
       "        text-align: right;\n",
       "    }\n",
       "</style>\n",
       "<table border=\"1\" class=\"dataframe\">\n",
       "  <thead>\n",
       "    <tr style=\"text-align: right;\">\n",
       "      <th>event_type</th>\n",
       "      <th>user_id</th>\n",
       "      <th>tutorial_start</th>\n",
       "    </tr>\n",
       "  </thead>\n",
       "  <tbody>\n",
       "    <tr>\n",
       "      <th>0</th>\n",
       "      <td>27832</td>\n",
       "      <td>NaT</td>\n",
       "    </tr>\n",
       "    <tr>\n",
       "      <th>1</th>\n",
       "      <td>27833</td>\n",
       "      <td>2018-01-01 17:47:40</td>\n",
       "    </tr>\n",
       "    <tr>\n",
       "      <th>2</th>\n",
       "      <td>27834</td>\n",
       "      <td>2018-01-01 19:46:11</td>\n",
       "    </tr>\n",
       "    <tr>\n",
       "      <th>3</th>\n",
       "      <td>27835</td>\n",
       "      <td>2018-01-01 15:00:51</td>\n",
       "    </tr>\n",
       "    <tr>\n",
       "      <th>4</th>\n",
       "      <td>27836</td>\n",
       "      <td>2018-01-01 15:40:43</td>\n",
       "    </tr>\n",
       "    <tr>\n",
       "      <th>...</th>\n",
       "      <td>...</td>\n",
       "      <td>...</td>\n",
       "    </tr>\n",
       "    <tr>\n",
       "      <th>19909</th>\n",
       "      <td>47741</td>\n",
       "      <td>2018-12-30 23:12:42</td>\n",
       "    </tr>\n",
       "    <tr>\n",
       "      <th>19910</th>\n",
       "      <td>47742</td>\n",
       "      <td>2018-12-31 02:43:26</td>\n",
       "    </tr>\n",
       "    <tr>\n",
       "      <th>19911</th>\n",
       "      <td>47743</td>\n",
       "      <td>2018-12-31 01:33:29</td>\n",
       "    </tr>\n",
       "    <tr>\n",
       "      <th>19912</th>\n",
       "      <td>47744</td>\n",
       "      <td>2018-12-31 06:51:17</td>\n",
       "    </tr>\n",
       "    <tr>\n",
       "      <th>19913</th>\n",
       "      <td>47745</td>\n",
       "      <td>NaT</td>\n",
       "    </tr>\n",
       "  </tbody>\n",
       "</table>\n",
       "<p>19914 rows × 2 columns</p>\n",
       "</div>"
      ],
      "text/plain": [
       "event_type  user_id      tutorial_start\n",
       "0             27832                 NaT\n",
       "1             27833 2018-01-01 17:47:40\n",
       "2             27834 2018-01-01 19:46:11\n",
       "3             27835 2018-01-01 15:00:51\n",
       "4             27836 2018-01-01 15:40:43\n",
       "...             ...                 ...\n",
       "19909         47741 2018-12-30 23:12:42\n",
       "19910         47742 2018-12-31 02:43:26\n",
       "19911         47743 2018-12-31 01:33:29\n",
       "19912         47744 2018-12-31 06:51:17\n",
       "19913         47745                 NaT\n",
       "\n",
       "[19914 rows x 2 columns]"
      ]
     },
     "metadata": {},
     "output_type": "display_data"
    },
    {
     "data": {
      "text/plain": [
       "'Выбор уровня сложности: '"
      ]
     },
     "metadata": {},
     "output_type": "display_data"
    },
    {
     "data": {
      "text/html": [
       "<div>\n",
       "<style scoped>\n",
       "    .dataframe tbody tr th:only-of-type {\n",
       "        vertical-align: middle;\n",
       "    }\n",
       "\n",
       "    .dataframe tbody tr th {\n",
       "        vertical-align: top;\n",
       "    }\n",
       "\n",
       "    .dataframe thead th {\n",
       "        text-align: right;\n",
       "    }\n",
       "</style>\n",
       "<table border=\"1\" class=\"dataframe\">\n",
       "  <thead>\n",
       "    <tr style=\"text-align: right;\">\n",
       "      <th>event_type</th>\n",
       "      <th>user_id</th>\n",
       "      <th>level_choice</th>\n",
       "    </tr>\n",
       "  </thead>\n",
       "  <tbody>\n",
       "    <tr>\n",
       "      <th>0</th>\n",
       "      <td>27832</td>\n",
       "      <td>NaT</td>\n",
       "    </tr>\n",
       "    <tr>\n",
       "      <th>1</th>\n",
       "      <td>27833</td>\n",
       "      <td>NaT</td>\n",
       "    </tr>\n",
       "    <tr>\n",
       "      <th>2</th>\n",
       "      <td>27834</td>\n",
       "      <td>NaT</td>\n",
       "    </tr>\n",
       "    <tr>\n",
       "      <th>3</th>\n",
       "      <td>27835</td>\n",
       "      <td>2018-01-01 20:37:22</td>\n",
       "    </tr>\n",
       "    <tr>\n",
       "      <th>4</th>\n",
       "      <td>27836</td>\n",
       "      <td>NaT</td>\n",
       "    </tr>\n",
       "    <tr>\n",
       "      <th>...</th>\n",
       "      <td>...</td>\n",
       "      <td>...</td>\n",
       "    </tr>\n",
       "    <tr>\n",
       "      <th>19909</th>\n",
       "      <td>47741</td>\n",
       "      <td>2018-12-31 02:01:26</td>\n",
       "    </tr>\n",
       "    <tr>\n",
       "      <th>19910</th>\n",
       "      <td>47742</td>\n",
       "      <td>2018-12-31 04:58:15</td>\n",
       "    </tr>\n",
       "    <tr>\n",
       "      <th>19911</th>\n",
       "      <td>47743</td>\n",
       "      <td>2018-12-31 02:23:50</td>\n",
       "    </tr>\n",
       "    <tr>\n",
       "      <th>19912</th>\n",
       "      <td>47744</td>\n",
       "      <td>2018-12-31 07:53:04</td>\n",
       "    </tr>\n",
       "    <tr>\n",
       "      <th>19913</th>\n",
       "      <td>47745</td>\n",
       "      <td>NaT</td>\n",
       "    </tr>\n",
       "  </tbody>\n",
       "</table>\n",
       "<p>19914 rows × 2 columns</p>\n",
       "</div>"
      ],
      "text/plain": [
       "event_type  user_id        level_choice\n",
       "0             27832                 NaT\n",
       "1             27833                 NaT\n",
       "2             27834                 NaT\n",
       "3             27835 2018-01-01 20:37:22\n",
       "4             27836                 NaT\n",
       "...             ...                 ...\n",
       "19909         47741 2018-12-31 02:01:26\n",
       "19910         47742 2018-12-31 04:58:15\n",
       "19911         47743 2018-12-31 02:23:50\n",
       "19912         47744 2018-12-31 07:53:04\n",
       "19913         47745                 NaT\n",
       "\n",
       "[19914 rows x 2 columns]"
      ]
     },
     "metadata": {},
     "output_type": "display_data"
    }
   ],
   "source": [
    "\n",
    "pivot_tedf_2018 = total_events_df.pivot_table( # создадим сводную таблицу на основе столбца \"тип действия\" из исходной объединенной таблицы\n",
    "    values='start_time',\n",
    "    index='user_id',\n",
    "    columns='event_type',\n",
    "    aggfunc='max' # берем последний по времени, а не первый \"тип действия\" из исходной объединенной таблицы.\n",
    ").reset_index()\n",
    "\n",
    "display(\"Построим и выведем сводную таблицу 'Тип действия' из исходной объединенной таблицы: \", pivot_tedf_2018) # \n",
    "\n",
    "pvt_st_df = pivot_tedf_2018[['user_id', 'tutorial_start']] # строим таблицу с данными о старте обучения пользователей\n",
    "display(\"Старт обучения пользователей: \", pvt_st_df)\n",
    "\n",
    "pvt_lch_df = pivot_tedf_2018[['user_id', 'level_choice']] # строим таблицу с данными о выборе уровня сложности пользователями\n",
    "display(\"Выбор уровня сложности: \", pvt_lch_df)\n",
    "\n"
   ]
  },
  {
   "attachments": {},
   "cell_type": "markdown",
   "metadata": {},
   "source": [
    "Продолжим анализ на базе объединения таблиц \"Старт обучения пользователей\" и \"Выбор уровня сложности\". Это позволит нам оценить, насколько быстро прошедшие обучение начинают выбирать уровень сложности. И есть ли те, кто выбирает уровень сложности без прохождения обучения, но потом, все же возвращаются назад, чтобы обучение все-таки пройти.  "
   ]
  },
  {
   "cell_type": "code",
   "execution_count": 11,
   "metadata": {},
   "outputs": [
    {
     "data": {
      "text/plain": [
       "'Таблица начала обучения и выбора уровня сложности:'"
      ]
     },
     "metadata": {},
     "output_type": "display_data"
    },
    {
     "data": {
      "text/html": [
       "<div>\n",
       "<style scoped>\n",
       "    .dataframe tbody tr th:only-of-type {\n",
       "        vertical-align: middle;\n",
       "    }\n",
       "\n",
       "    .dataframe tbody tr th {\n",
       "        vertical-align: top;\n",
       "    }\n",
       "\n",
       "    .dataframe thead th {\n",
       "        text-align: right;\n",
       "    }\n",
       "</style>\n",
       "<table border=\"1\" class=\"dataframe\">\n",
       "  <thead>\n",
       "    <tr style=\"text-align: right;\">\n",
       "      <th>event_type</th>\n",
       "      <th>user_id</th>\n",
       "      <th>tutorial_start</th>\n",
       "      <th>level_choice</th>\n",
       "    </tr>\n",
       "  </thead>\n",
       "  <tbody>\n",
       "    <tr>\n",
       "      <th>0</th>\n",
       "      <td>27832</td>\n",
       "      <td>NaT</td>\n",
       "      <td>NaT</td>\n",
       "    </tr>\n",
       "    <tr>\n",
       "      <th>1</th>\n",
       "      <td>27833</td>\n",
       "      <td>2018-01-01 17:47:40</td>\n",
       "      <td>NaT</td>\n",
       "    </tr>\n",
       "    <tr>\n",
       "      <th>2</th>\n",
       "      <td>27834</td>\n",
       "      <td>2018-01-01 19:46:11</td>\n",
       "      <td>NaT</td>\n",
       "    </tr>\n",
       "    <tr>\n",
       "      <th>3</th>\n",
       "      <td>27835</td>\n",
       "      <td>2018-01-01 15:00:51</td>\n",
       "      <td>2018-01-01 20:37:22</td>\n",
       "    </tr>\n",
       "    <tr>\n",
       "      <th>4</th>\n",
       "      <td>27836</td>\n",
       "      <td>2018-01-01 15:40:43</td>\n",
       "      <td>NaT</td>\n",
       "    </tr>\n",
       "    <tr>\n",
       "      <th>...</th>\n",
       "      <td>...</td>\n",
       "      <td>...</td>\n",
       "      <td>...</td>\n",
       "    </tr>\n",
       "    <tr>\n",
       "      <th>19909</th>\n",
       "      <td>47741</td>\n",
       "      <td>2018-12-30 23:12:42</td>\n",
       "      <td>2018-12-31 02:01:26</td>\n",
       "    </tr>\n",
       "    <tr>\n",
       "      <th>19910</th>\n",
       "      <td>47742</td>\n",
       "      <td>2018-12-31 02:43:26</td>\n",
       "      <td>2018-12-31 04:58:15</td>\n",
       "    </tr>\n",
       "    <tr>\n",
       "      <th>19911</th>\n",
       "      <td>47743</td>\n",
       "      <td>2018-12-31 01:33:29</td>\n",
       "      <td>2018-12-31 02:23:50</td>\n",
       "    </tr>\n",
       "    <tr>\n",
       "      <th>19912</th>\n",
       "      <td>47744</td>\n",
       "      <td>2018-12-31 06:51:17</td>\n",
       "      <td>2018-12-31 07:53:04</td>\n",
       "    </tr>\n",
       "    <tr>\n",
       "      <th>19913</th>\n",
       "      <td>47745</td>\n",
       "      <td>NaT</td>\n",
       "      <td>NaT</td>\n",
       "    </tr>\n",
       "  </tbody>\n",
       "</table>\n",
       "<p>19914 rows × 3 columns</p>\n",
       "</div>"
      ],
      "text/plain": [
       "event_type  user_id      tutorial_start        level_choice\n",
       "0             27832                 NaT                 NaT\n",
       "1             27833 2018-01-01 17:47:40                 NaT\n",
       "2             27834 2018-01-01 19:46:11                 NaT\n",
       "3             27835 2018-01-01 15:00:51 2018-01-01 20:37:22\n",
       "4             27836 2018-01-01 15:40:43                 NaT\n",
       "...             ...                 ...                 ...\n",
       "19909         47741 2018-12-30 23:12:42 2018-12-31 02:01:26\n",
       "19910         47742 2018-12-31 02:43:26 2018-12-31 04:58:15\n",
       "19911         47743 2018-12-31 01:33:29 2018-12-31 02:23:50\n",
       "19912         47744 2018-12-31 06:51:17 2018-12-31 07:53:04\n",
       "19913         47745                 NaT                 NaT\n",
       "\n",
       "[19914 rows x 3 columns]"
      ]
     },
     "metadata": {},
     "output_type": "display_data"
    },
    {
     "data": {
      "text/plain": [
       "'Таблица оценки порядка прохождения этапов игры:'"
      ]
     },
     "metadata": {},
     "output_type": "display_data"
    },
    {
     "data": {
      "text/html": [
       "<div>\n",
       "<style scoped>\n",
       "    .dataframe tbody tr th:only-of-type {\n",
       "        vertical-align: middle;\n",
       "    }\n",
       "\n",
       "    .dataframe tbody tr th {\n",
       "        vertical-align: top;\n",
       "    }\n",
       "\n",
       "    .dataframe thead th {\n",
       "        text-align: right;\n",
       "    }\n",
       "</style>\n",
       "<table border=\"1\" class=\"dataframe\">\n",
       "  <thead>\n",
       "    <tr style=\"text-align: right;\">\n",
       "      <th>event_type</th>\n",
       "      <th>user_id</th>\n",
       "      <th>tutorial_start</th>\n",
       "      <th>level_choice</th>\n",
       "      <th>difference_time</th>\n",
       "    </tr>\n",
       "  </thead>\n",
       "  <tbody>\n",
       "    <tr>\n",
       "      <th>0</th>\n",
       "      <td>27832</td>\n",
       "      <td>NaT</td>\n",
       "      <td>NaT</td>\n",
       "      <td>NaN</td>\n",
       "    </tr>\n",
       "    <tr>\n",
       "      <th>1</th>\n",
       "      <td>27833</td>\n",
       "      <td>2018-01-01 17:47:40</td>\n",
       "      <td>NaT</td>\n",
       "      <td>NaN</td>\n",
       "    </tr>\n",
       "    <tr>\n",
       "      <th>2</th>\n",
       "      <td>27834</td>\n",
       "      <td>2018-01-01 19:46:11</td>\n",
       "      <td>NaT</td>\n",
       "      <td>NaN</td>\n",
       "    </tr>\n",
       "    <tr>\n",
       "      <th>3</th>\n",
       "      <td>27835</td>\n",
       "      <td>2018-01-01 15:00:51</td>\n",
       "      <td>2018-01-01 20:37:22</td>\n",
       "      <td>-5.608611</td>\n",
       "    </tr>\n",
       "    <tr>\n",
       "      <th>4</th>\n",
       "      <td>27836</td>\n",
       "      <td>2018-01-01 15:40:43</td>\n",
       "      <td>NaT</td>\n",
       "      <td>NaN</td>\n",
       "    </tr>\n",
       "  </tbody>\n",
       "</table>\n",
       "</div>"
      ],
      "text/plain": [
       "event_type  user_id      tutorial_start        level_choice  difference_time\n",
       "0             27832                 NaT                 NaT              NaN\n",
       "1             27833 2018-01-01 17:47:40                 NaT              NaN\n",
       "2             27834 2018-01-01 19:46:11                 NaT              NaN\n",
       "3             27835 2018-01-01 15:00:51 2018-01-01 20:37:22        -5.608611\n",
       "4             27836 2018-01-01 15:40:43                 NaT              NaN"
      ]
     },
     "metadata": {},
     "output_type": "display_data"
    },
    {
     "name": "stdout",
     "output_type": "stream",
     "text": [
      "\n"
     ]
    },
    {
     "data": {
      "text/plain": [
       "'Максимальная разность между временем начала обучения и временем выбора уровня сложности: 23.8575'"
      ]
     },
     "metadata": {},
     "output_type": "display_data"
    },
    {
     "data": {
      "text/plain": [
       "'минут положительная, значит есть те, кто возвращается'"
      ]
     },
     "metadata": {},
     "output_type": "display_data"
    },
    {
     "data": {
      "text/plain": [
       "'Средняя разность между временем начала обучения и временем выбора уровня сложности: -0.9954900552858684'"
      ]
     },
     "metadata": {},
     "output_type": "display_data"
    },
    {
     "data": {
      "text/plain": [
       "'минут отрицательная, значит у большинства нет сложностей с прохождением'"
      ]
     },
     "metadata": {},
     "output_type": "display_data"
    },
    {
     "name": "stdout",
     "output_type": "stream",
     "text": [
      "\n"
     ]
    },
    {
     "data": {
      "text/plain": [
       "'Описательная статистика выборки, позволяющей сравнить время начала обучения и выбора уровня сложности: '"
      ]
     },
     "metadata": {},
     "output_type": "display_data"
    },
    {
     "data": {
      "text/html": [
       "<div>\n",
       "<style scoped>\n",
       "    .dataframe tbody tr th:only-of-type {\n",
       "        vertical-align: middle;\n",
       "    }\n",
       "\n",
       "    .dataframe tbody tr th {\n",
       "        vertical-align: top;\n",
       "    }\n",
       "\n",
       "    .dataframe thead th {\n",
       "        text-align: right;\n",
       "    }\n",
       "</style>\n",
       "<table border=\"1\" class=\"dataframe\">\n",
       "  <thead>\n",
       "    <tr style=\"text-align: right;\">\n",
       "      <th>event_type</th>\n",
       "      <th>user_id</th>\n",
       "      <th>tutorial_start</th>\n",
       "      <th>level_choice</th>\n",
       "      <th>difference_time</th>\n",
       "    </tr>\n",
       "  </thead>\n",
       "  <tbody>\n",
       "    <tr>\n",
       "      <th>count</th>\n",
       "      <td>19914.000000</td>\n",
       "      <td>11852</td>\n",
       "      <td>8338</td>\n",
       "      <td>8240.000000</td>\n",
       "    </tr>\n",
       "    <tr>\n",
       "      <th>mean</th>\n",
       "      <td>37788.500000</td>\n",
       "      <td>2018-07-02 23:11:46.039402752</td>\n",
       "      <td>2018-07-04 04:51:24.129647360</td>\n",
       "      <td>-0.995490</td>\n",
       "    </tr>\n",
       "    <tr>\n",
       "      <th>min</th>\n",
       "      <td>27832.000000</td>\n",
       "      <td>2018-01-01 15:00:51</td>\n",
       "      <td>2018-01-01 20:37:22</td>\n",
       "      <td>-7.138333</td>\n",
       "    </tr>\n",
       "    <tr>\n",
       "      <th>25%</th>\n",
       "      <td>32810.250000</td>\n",
       "      <td>2018-03-24 15:36:38.750000128</td>\n",
       "      <td>2018-03-24 23:51:21.750000128</td>\n",
       "      <td>-3.197153</td>\n",
       "    </tr>\n",
       "    <tr>\n",
       "      <th>50%</th>\n",
       "      <td>37788.500000</td>\n",
       "      <td>2018-06-23 15:26:06</td>\n",
       "      <td>2018-06-24 00:29:52.500000</td>\n",
       "      <td>-1.843889</td>\n",
       "    </tr>\n",
       "    <tr>\n",
       "      <th>75%</th>\n",
       "      <td>42766.750000</td>\n",
       "      <td>2018-10-12 05:46:42.750000128</td>\n",
       "      <td>2018-10-14 15:58:03.249999872</td>\n",
       "      <td>-0.499722</td>\n",
       "    </tr>\n",
       "    <tr>\n",
       "      <th>max</th>\n",
       "      <td>47745.000000</td>\n",
       "      <td>2018-12-31 07:14:38</td>\n",
       "      <td>2018-12-31 09:59:00</td>\n",
       "      <td>23.857500</td>\n",
       "    </tr>\n",
       "    <tr>\n",
       "      <th>std</th>\n",
       "      <td>5748.820966</td>\n",
       "      <td>NaN</td>\n",
       "      <td>NaN</td>\n",
       "      <td>3.848359</td>\n",
       "    </tr>\n",
       "  </tbody>\n",
       "</table>\n",
       "</div>"
      ],
      "text/plain": [
       "event_type       user_id                 tutorial_start  \\\n",
       "count       19914.000000                          11852   \n",
       "mean        37788.500000  2018-07-02 23:11:46.039402752   \n",
       "min         27832.000000            2018-01-01 15:00:51   \n",
       "25%         32810.250000  2018-03-24 15:36:38.750000128   \n",
       "50%         37788.500000            2018-06-23 15:26:06   \n",
       "75%         42766.750000  2018-10-12 05:46:42.750000128   \n",
       "max         47745.000000            2018-12-31 07:14:38   \n",
       "std          5748.820966                            NaN   \n",
       "\n",
       "event_type                   level_choice  difference_time  \n",
       "count                                8338      8240.000000  \n",
       "mean        2018-07-04 04:51:24.129647360        -0.995490  \n",
       "min                   2018-01-01 20:37:22        -7.138333  \n",
       "25%         2018-03-24 23:51:21.750000128        -3.197153  \n",
       "50%            2018-06-24 00:29:52.500000        -1.843889  \n",
       "75%         2018-10-14 15:58:03.249999872        -0.499722  \n",
       "max                   2018-12-31 09:59:00        23.857500  \n",
       "std                                   NaN         3.848359  "
      ]
     },
     "metadata": {},
     "output_type": "display_data"
    },
    {
     "data": {
      "text/plain": [
       "'Количество пользователей: 19914'"
      ]
     },
     "metadata": {},
     "output_type": "display_data"
    },
    {
     "data": {
      "text/plain": [
       "'Описательная статистика выборки, включающей пользователей, которые выбирали начало обучения после выбора уровня сложности: '"
      ]
     },
     "metadata": {},
     "output_type": "display_data"
    },
    {
     "data": {
      "text/html": [
       "<div>\n",
       "<style scoped>\n",
       "    .dataframe tbody tr th:only-of-type {\n",
       "        vertical-align: middle;\n",
       "    }\n",
       "\n",
       "    .dataframe tbody tr th {\n",
       "        vertical-align: top;\n",
       "    }\n",
       "\n",
       "    .dataframe thead th {\n",
       "        text-align: right;\n",
       "    }\n",
       "</style>\n",
       "<table border=\"1\" class=\"dataframe\">\n",
       "  <thead>\n",
       "    <tr style=\"text-align: right;\">\n",
       "      <th>event_type</th>\n",
       "      <th>user_id</th>\n",
       "      <th>tutorial_start</th>\n",
       "      <th>level_choice</th>\n",
       "      <th>difference_time</th>\n",
       "    </tr>\n",
       "  </thead>\n",
       "  <tbody>\n",
       "    <tr>\n",
       "      <th>count</th>\n",
       "      <td>1386.000000</td>\n",
       "      <td>1386</td>\n",
       "      <td>1386</td>\n",
       "      <td>1386.000000</td>\n",
       "    </tr>\n",
       "    <tr>\n",
       "      <th>mean</th>\n",
       "      <td>37629.218615</td>\n",
       "      <td>2018-06-30 15:12:23.238816768</td>\n",
       "      <td>2018-06-30 09:19:54.111111168</td>\n",
       "      <td>5.874758</td>\n",
       "    </tr>\n",
       "    <tr>\n",
       "      <th>min</th>\n",
       "      <td>27842.000000</td>\n",
       "      <td>2018-01-02 07:08:00</td>\n",
       "      <td>2018-01-02 06:19:18</td>\n",
       "      <td>0.001667</td>\n",
       "    </tr>\n",
       "    <tr>\n",
       "      <th>25%</th>\n",
       "      <td>32662.000000</td>\n",
       "      <td>2018-03-22 07:02:29</td>\n",
       "      <td>2018-03-22 03:40:59.750000128</td>\n",
       "      <td>2.088681</td>\n",
       "    </tr>\n",
       "    <tr>\n",
       "      <th>50%</th>\n",
       "      <td>37546.000000</td>\n",
       "      <td>2018-06-22 02:13:43.500000</td>\n",
       "      <td>2018-06-21 18:26:01</td>\n",
       "      <td>4.791944</td>\n",
       "    </tr>\n",
       "    <tr>\n",
       "      <th>75%</th>\n",
       "      <td>42316.500000</td>\n",
       "      <td>2018-10-05 04:26:38.249999872</td>\n",
       "      <td>2018-10-04 20:58:16</td>\n",
       "      <td>8.893542</td>\n",
       "    </tr>\n",
       "    <tr>\n",
       "      <th>max</th>\n",
       "      <td>47724.000000</td>\n",
       "      <td>2018-12-31 02:47:53</td>\n",
       "      <td>2018-12-30 13:21:12</td>\n",
       "      <td>23.857500</td>\n",
       "    </tr>\n",
       "    <tr>\n",
       "      <th>std</th>\n",
       "      <td>5721.419779</td>\n",
       "      <td>NaN</td>\n",
       "      <td>NaN</td>\n",
       "      <td>4.574726</td>\n",
       "    </tr>\n",
       "  </tbody>\n",
       "</table>\n",
       "</div>"
      ],
      "text/plain": [
       "event_type       user_id                 tutorial_start  \\\n",
       "count        1386.000000                           1386   \n",
       "mean        37629.218615  2018-06-30 15:12:23.238816768   \n",
       "min         27842.000000            2018-01-02 07:08:00   \n",
       "25%         32662.000000            2018-03-22 07:02:29   \n",
       "50%         37546.000000     2018-06-22 02:13:43.500000   \n",
       "75%         42316.500000  2018-10-05 04:26:38.249999872   \n",
       "max         47724.000000            2018-12-31 02:47:53   \n",
       "std          5721.419779                            NaN   \n",
       "\n",
       "event_type                   level_choice  difference_time  \n",
       "count                                1386      1386.000000  \n",
       "mean        2018-06-30 09:19:54.111111168         5.874758  \n",
       "min                   2018-01-02 06:19:18         0.001667  \n",
       "25%         2018-03-22 03:40:59.750000128         2.088681  \n",
       "50%                   2018-06-21 18:26:01         4.791944  \n",
       "75%                   2018-10-04 20:58:16         8.893542  \n",
       "max                   2018-12-30 13:21:12        23.857500  \n",
       "std                                   NaN         4.574726  "
      ]
     },
     "metadata": {},
     "output_type": "display_data"
    },
    {
     "data": {
      "text/plain": [
       "'Количество пользователей, вернувшихся к обучению: 1386'"
      ]
     },
     "metadata": {},
     "output_type": "display_data"
    },
    {
     "name": "stdout",
     "output_type": "stream",
     "text": [
      "\n"
     ]
    },
    {
     "data": {
      "text/plain": [
       "'Доля пользователей, вынужденных возвращаться к обучению после выбора уровня сложности: 6.96%'"
      ]
     },
     "metadata": {},
     "output_type": "display_data"
    }
   ],
   "source": [
    "time_difference_df = pvt_st_df.merge(pvt_lch_df, how='left', on='user_id')  # соединяем таблицы начала обучения и выбора уровня сложности\n",
    "display(\"Таблица начала обучения и выбора уровня сложности:\", time_difference_df)\n",
    "time_difference_df['difference_time'] = (time_difference_df['tutorial_start'] - time_difference_df['level_choice']) / pd.Timedelta('1 hour')  \n",
    "# в отдельном столбце ищем разницу во времени, между началом учебы и выбором уровня сложности\n",
    "display(\"Таблица оценки порядка прохождения этапов игры:\", time_difference_df.head())\n",
    "\n",
    "time_difference_df_max = time_difference_df['difference_time'].max()\n",
    "time_difference_df_mean =  time_difference_df['difference_time'].mean()\n",
    "#time_difference_df_min = time_difference_df['difference_time'].min()\n",
    "print()\n",
    "display(\"Максимальная разность между временем начала обучения и временем выбора уровня сложности: {}\".format(time_difference_df_max), \"минут положительная, значит есть те, кто возвращается\")\n",
    "display(\"Средняя разность между временем начала обучения и временем выбора уровня сложности: {}\".format(time_difference_df_mean), \"минут отрицательная, значит у большинства нет сложностей с прохождением\")\n",
    "\n",
    "print()\n",
    "display(\"Описательная статистика выборки, позволяющей сравнить время начала обучения и выбора уровня сложности: \", time_difference_df.describe())\n",
    "\n",
    "\n",
    "display(\"Количество пользователей: {}\".format(len(time_difference_df)))\n",
    "\n",
    "time_difference_df_m_plus = time_difference_df[time_difference_df['difference_time'] > 0] # строим фильтр, в котором оставим только тех, кто возвращался к обучению после выбора сложности\n",
    "display(\"Описательная статистика выборки, включающей пользователей, которые выбирали начало обучения после выбора уровня сложности: \", time_difference_df_m_plus.describe()) # выводим количество тех, кто вынужден был вернуться на предыдущий шаг в игре \n",
    "display(\"Количество пользователей, вернувшихся к обучению: {}\".format(time_difference_df_m_plus['user_id'].count()))\n",
    "print()\n",
    "#ln_td_df = time_difference_df['user_id'].\n",
    "return_users = time_difference_df_m_plus['user_id'].count() # запишем для удобства количество возвращающихся пльзователей в переменную\n",
    "ln_td_df = len(time_difference_df) # так же в отдельную переменную запишем количество всех пользователей, которые совершали любой выбор\n",
    "percent_of_ret = return_users / ln_td_df\n",
    "display(\"Доля пользователей, вынужденных возвращаться к обучению после выбора уровня сложности: {:.2%}\".format(percent_of_ret))"
   ]
  },
  {
   "attachments": {},
   "cell_type": "markdown",
   "metadata": {},
   "source": [
    "Как видим, логика игры понятна абсолютному большинству пользователей: только 6,96% пользователей перепрыгивают через этап обучения, но и они в конечном итоге предпочитают пройти обучение в игре. Как мы помним из рассмотрения предыдущей гипотезы, тем самым повышается шанс приобретения новых вопросов с их стороны. "
   ]
  },
  {
   "attachments": {},
   "cell_type": "markdown",
   "metadata": {},
   "source": [
    "## Выводы\n",
    "\n",
    "### 1. Успешное обучение само по себе чаще приводит пользователей к покупке новых вопросов для продолжения игры. Эта группа в 2018 году составила 90,44%.  Прошедшие успешное обучение пользователи переходят к стадии покупки новых вопросов для игры в среднем на 5,55 часа (5 часов, 34 минуты) раньше, чем не прошедшие обучение. \n",
    "\n",
    "### 2. Количество прохождения обучения не влияет на конверсию, так как во всех группах данный показатель практически одинаков. Не увеличивает количество обучения и выручку на пользователя, которая так же во всех группах примерно равна. Очевидно, что для принятия решения о покупке нового пакета вопросов пользователям достаточно успешно пройти обучение всего лишь один раз, как и поступает большинство пользователей. Они же и генерируют основную долю выручки. Таким образом, на решение перейти к покупке влияет сам факт обучения, а не количество прохождений обучения пользователем.\n",
    "\n",
    "### 3. Логика игры понятна абсолютному большинству пользователей: только 6,96% пользователей перепрыгивают через этап обучения, но и они в конечном итоге предпочитают пройти обучение в игре. Как мы помним из рассмотрения предыдущей гипотезы, тем самым повышается шанс преобретения новых вопросов с их стороны."
   ]
  }
 ],
 "metadata": {
  "kernelspec": {
   "display_name": "Python 3",
   "language": "python",
   "name": "python3"
  },
  "language_info": {
   "codemirror_mode": {
    "name": "ipython",
    "version": 3
   },
   "file_extension": ".py",
   "mimetype": "text/x-python",
   "name": "python",
   "nbconvert_exporter": "python",
   "pygments_lexer": "ipython3",
   "version": "3.9.10"
  },
  "orig_nbformat": 4,
  "vscode": {
   "interpreter": {
    "hash": "7bd823bc0ca4512bf13d0774e219b87cf88b98b8b8ca7ee0e0ecb6eb209b26f1"
   }
  }
 },
 "nbformat": 4,
 "nbformat_minor": 2
}
